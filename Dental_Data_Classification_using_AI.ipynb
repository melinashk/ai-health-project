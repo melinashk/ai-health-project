{
  "nbformat": 4,
  "nbformat_minor": 0,
  "metadata": {
    "colab": {
      "provenance": [],
      "authorship_tag": "ABX9TyNFsPQ5bnsV5+09Ebk8kAYa",
      "include_colab_link": true
    },
    "kernelspec": {
      "name": "python3",
      "display_name": "Python 3"
    },
    "language_info": {
      "name": "python"
    }
  },
  "cells": [
    {
      "cell_type": "markdown",
      "metadata": {
        "id": "view-in-github",
        "colab_type": "text"
      },
      "source": [
        "<a href=\"https://colab.research.google.com/github/melinashk/ai-health-project/blob/main/Dental_Data_Classification_using_AI.ipynb\" target=\"_parent\"><img src=\"https://colab.research.google.com/assets/colab-badge.svg\" alt=\"Open In Colab\"/></a>"
      ]
    },
    {
      "cell_type": "markdown",
      "source": [
        "**:INSTALLATION OF LIBRARIES**\n"
      ],
      "metadata": {
        "id": "zwgvXL_bc8JY"
      }
    },
    {
      "cell_type": "code",
      "source": [
        "!pip install pandas"
      ],
      "metadata": {
        "colab": {
          "base_uri": "https://localhost:8080/"
        },
        "id": "d6kVr_jFOts_",
        "outputId": "9d7d721b-e9d6-4c47-9fdb-7d4b90c64f6e"
      },
      "execution_count": 178,
      "outputs": [
        {
          "output_type": "stream",
          "name": "stdout",
          "text": [
            "Looking in indexes: https://pypi.org/simple, https://us-python.pkg.dev/colab-wheels/public/simple/\n",
            "Requirement already satisfied: pandas in /usr/local/lib/python3.8/dist-packages (1.3.5)\n",
            "Requirement already satisfied: pytz>=2017.3 in /usr/local/lib/python3.8/dist-packages (from pandas) (2022.6)\n",
            "Requirement already satisfied: numpy>=1.17.3 in /usr/local/lib/python3.8/dist-packages (from pandas) (1.21.6)\n",
            "Requirement already satisfied: python-dateutil>=2.7.3 in /usr/local/lib/python3.8/dist-packages (from pandas) (2.8.2)\n",
            "Requirement already satisfied: six>=1.5 in /usr/local/lib/python3.8/dist-packages (from python-dateutil>=2.7.3->pandas) (1.15.0)\n"
          ]
        }
      ]
    },
    {
      "cell_type": "code",
      "source": [
        "!pip install nlp"
      ],
      "metadata": {
        "colab": {
          "base_uri": "https://localhost:8080/"
        },
        "id": "SbNShgxBO161",
        "outputId": "b0f6aaa8-5790-44a1-bb1e-d438ee94618b"
      },
      "execution_count": 179,
      "outputs": [
        {
          "output_type": "stream",
          "name": "stdout",
          "text": [
            "Looking in indexes: https://pypi.org/simple, https://us-python.pkg.dev/colab-wheels/public/simple/\n",
            "Requirement already satisfied: nlp in /usr/local/lib/python3.8/dist-packages (0.4.0)\n",
            "Requirement already satisfied: pandas in /usr/local/lib/python3.8/dist-packages (from nlp) (1.3.5)\n",
            "Requirement already satisfied: dill in /usr/local/lib/python3.8/dist-packages (from nlp) (0.3.6)\n",
            "Requirement already satisfied: tqdm>=4.27 in /usr/local/lib/python3.8/dist-packages (from nlp) (4.64.1)\n",
            "Requirement already satisfied: requests>=2.19.0 in /usr/local/lib/python3.8/dist-packages (from nlp) (2.23.0)\n",
            "Requirement already satisfied: filelock in /usr/local/lib/python3.8/dist-packages (from nlp) (3.8.0)\n",
            "Requirement already satisfied: xxhash in /usr/local/lib/python3.8/dist-packages (from nlp) (3.1.0)\n",
            "Requirement already satisfied: pyarrow>=0.16.0 in /usr/local/lib/python3.8/dist-packages (from nlp) (9.0.0)\n",
            "Requirement already satisfied: numpy in /usr/local/lib/python3.8/dist-packages (from nlp) (1.21.6)\n",
            "Requirement already satisfied: certifi>=2017.4.17 in /usr/local/lib/python3.8/dist-packages (from requests>=2.19.0->nlp) (2022.9.24)\n",
            "Requirement already satisfied: idna<3,>=2.5 in /usr/local/lib/python3.8/dist-packages (from requests>=2.19.0->nlp) (2.10)\n",
            "Requirement already satisfied: urllib3!=1.25.0,!=1.25.1,<1.26,>=1.21.1 in /usr/local/lib/python3.8/dist-packages (from requests>=2.19.0->nlp) (1.24.3)\n",
            "Requirement already satisfied: chardet<4,>=3.0.2 in /usr/local/lib/python3.8/dist-packages (from requests>=2.19.0->nlp) (3.0.4)\n",
            "Requirement already satisfied: python-dateutil>=2.7.3 in /usr/local/lib/python3.8/dist-packages (from pandas->nlp) (2.8.2)\n",
            "Requirement already satisfied: pytz>=2017.3 in /usr/local/lib/python3.8/dist-packages (from pandas->nlp) (2022.6)\n",
            "Requirement already satisfied: six>=1.5 in /usr/local/lib/python3.8/dist-packages (from python-dateutil>=2.7.3->pandas->nlp) (1.15.0)\n"
          ]
        }
      ]
    },
    {
      "cell_type": "code",
      "source": [
        "!pip install sklearn"
      ],
      "metadata": {
        "colab": {
          "base_uri": "https://localhost:8080/"
        },
        "id": "yTV0KFwTO9TU",
        "outputId": "52188f8a-6b2f-4e22-f5f3-8b8ef260771b"
      },
      "execution_count": 180,
      "outputs": [
        {
          "output_type": "stream",
          "name": "stdout",
          "text": [
            "Looking in indexes: https://pypi.org/simple, https://us-python.pkg.dev/colab-wheels/public/simple/\n",
            "Requirement already satisfied: sklearn in /usr/local/lib/python3.8/dist-packages (0.0.post1)\n"
          ]
        }
      ]
    },
    {
      "cell_type": "code",
      "source": [
        "!pip install seaborn"
      ],
      "metadata": {
        "colab": {
          "base_uri": "https://localhost:8080/"
        },
        "id": "98ZGwQ9Wan7v",
        "outputId": "c02173fd-e227-4bea-fc6d-b3997764d272"
      },
      "execution_count": 181,
      "outputs": [
        {
          "output_type": "stream",
          "name": "stdout",
          "text": [
            "Looking in indexes: https://pypi.org/simple, https://us-python.pkg.dev/colab-wheels/public/simple/\n",
            "Requirement already satisfied: seaborn in /usr/local/lib/python3.8/dist-packages (0.11.2)\n",
            "Requirement already satisfied: pandas>=0.23 in /usr/local/lib/python3.8/dist-packages (from seaborn) (1.3.5)\n",
            "Requirement already satisfied: matplotlib>=2.2 in /usr/local/lib/python3.8/dist-packages (from seaborn) (3.2.2)\n",
            "Requirement already satisfied: numpy>=1.15 in /usr/local/lib/python3.8/dist-packages (from seaborn) (1.21.6)\n",
            "Requirement already satisfied: scipy>=1.0 in /usr/local/lib/python3.8/dist-packages (from seaborn) (1.7.3)\n",
            "Requirement already satisfied: cycler>=0.10 in /usr/local/lib/python3.8/dist-packages (from matplotlib>=2.2->seaborn) (0.11.0)\n",
            "Requirement already satisfied: kiwisolver>=1.0.1 in /usr/local/lib/python3.8/dist-packages (from matplotlib>=2.2->seaborn) (1.4.4)\n",
            "Requirement already satisfied: pyparsing!=2.0.4,!=2.1.2,!=2.1.6,>=2.0.1 in /usr/local/lib/python3.8/dist-packages (from matplotlib>=2.2->seaborn) (3.0.9)\n",
            "Requirement already satisfied: python-dateutil>=2.1 in /usr/local/lib/python3.8/dist-packages (from matplotlib>=2.2->seaborn) (2.8.2)\n",
            "Requirement already satisfied: pytz>=2017.3 in /usr/local/lib/python3.8/dist-packages (from pandas>=0.23->seaborn) (2022.6)\n",
            "Requirement already satisfied: six>=1.5 in /usr/local/lib/python3.8/dist-packages (from python-dateutil>=2.1->matplotlib>=2.2->seaborn) (1.15.0)\n"
          ]
        }
      ]
    },
    {
      "cell_type": "code",
      "source": [
        "!pip install matplotlib"
      ],
      "metadata": {
        "colab": {
          "base_uri": "https://localhost:8080/"
        },
        "id": "lSG1IBdjgvpF",
        "outputId": "55d47266-f632-4ca3-c28c-a5b05bdba232"
      },
      "execution_count": 182,
      "outputs": [
        {
          "output_type": "stream",
          "name": "stdout",
          "text": [
            "Looking in indexes: https://pypi.org/simple, https://us-python.pkg.dev/colab-wheels/public/simple/\n",
            "Requirement already satisfied: matplotlib in /usr/local/lib/python3.8/dist-packages (3.2.2)\n",
            "Requirement already satisfied: cycler>=0.10 in /usr/local/lib/python3.8/dist-packages (from matplotlib) (0.11.0)\n",
            "Requirement already satisfied: pyparsing!=2.0.4,!=2.1.2,!=2.1.6,>=2.0.1 in /usr/local/lib/python3.8/dist-packages (from matplotlib) (3.0.9)\n",
            "Requirement already satisfied: numpy>=1.11 in /usr/local/lib/python3.8/dist-packages (from matplotlib) (1.21.6)\n",
            "Requirement already satisfied: python-dateutil>=2.1 in /usr/local/lib/python3.8/dist-packages (from matplotlib) (2.8.2)\n",
            "Requirement already satisfied: kiwisolver>=1.0.1 in /usr/local/lib/python3.8/dist-packages (from matplotlib) (1.4.4)\n",
            "Requirement already satisfied: six>=1.5 in /usr/local/lib/python3.8/dist-packages (from python-dateutil>=2.1->matplotlib) (1.15.0)\n"
          ]
        }
      ]
    },
    {
      "cell_type": "code",
      "source": [
        "#importing different python libraries\n",
        "import pandas as pd\n",
        "import seaborn as sns\n",
        "import matplotlib.pyplot as plt\n",
        "import re\n",
        "from nltk.corpus import stopwords\n",
        "from nltk.stem.porter import PorterStemmer\n",
        "from nltk.tokenize import word_tokenize\n",
        "from sklearn.preprocessing import LabelEncoder\n",
        "from sklearn.feature_extraction.text import TfidfVectorizer\n",
        "from sklearn.model_selection import train_test_split\n",
        "from sklearn.linear_model import LogisticRegression\n",
        "from sklearn.metrics import accuracy_score\n",
        "from sklearn.tree import DecisionTreeClassifier\n",
        "from sklearn.neighbors import KNeighborsClassifier"
      ],
      "metadata": {
        "id": "5K49TAS7PCRj"
      },
      "execution_count": 183,
      "outputs": []
    },
    {
      "cell_type": "code",
      "source": [
        "#stopwords identification\n",
        "import nltk\n",
        "nltk.download('stopwords')\n",
        "print(stopwords.words('english'))"
      ],
      "metadata": {
        "colab": {
          "base_uri": "https://localhost:8080/"
        },
        "id": "-Ynj_utlPF1y",
        "outputId": "7456475d-a313-475c-b126-02fd6bfee1a7"
      },
      "execution_count": 184,
      "outputs": [
        {
          "output_type": "stream",
          "name": "stdout",
          "text": [
            "['i', 'me', 'my', 'myself', 'we', 'our', 'ours', 'ourselves', 'you', \"you're\", \"you've\", \"you'll\", \"you'd\", 'your', 'yours', 'yourself', 'yourselves', 'he', 'him', 'his', 'himself', 'she', \"she's\", 'her', 'hers', 'herself', 'it', \"it's\", 'its', 'itself', 'they', 'them', 'their', 'theirs', 'themselves', 'what', 'which', 'who', 'whom', 'this', 'that', \"that'll\", 'these', 'those', 'am', 'is', 'are', 'was', 'were', 'be', 'been', 'being', 'have', 'has', 'had', 'having', 'do', 'does', 'did', 'doing', 'a', 'an', 'the', 'and', 'but', 'if', 'or', 'because', 'as', 'until', 'while', 'of', 'at', 'by', 'for', 'with', 'about', 'against', 'between', 'into', 'through', 'during', 'before', 'after', 'above', 'below', 'to', 'from', 'up', 'down', 'in', 'out', 'on', 'off', 'over', 'under', 'again', 'further', 'then', 'once', 'here', 'there', 'when', 'where', 'why', 'how', 'all', 'any', 'both', 'each', 'few', 'more', 'most', 'other', 'some', 'such', 'no', 'nor', 'not', 'only', 'own', 'same', 'so', 'than', 'too', 'very', 's', 't', 'can', 'will', 'just', 'don', \"don't\", 'should', \"should've\", 'now', 'd', 'll', 'm', 'o', 're', 've', 'y', 'ain', 'aren', \"aren't\", 'couldn', \"couldn't\", 'didn', \"didn't\", 'doesn', \"doesn't\", 'hadn', \"hadn't\", 'hasn', \"hasn't\", 'haven', \"haven't\", 'isn', \"isn't\", 'ma', 'mightn', \"mightn't\", 'mustn', \"mustn't\", 'needn', \"needn't\", 'shan', \"shan't\", 'shouldn', \"shouldn't\", 'wasn', \"wasn't\", 'weren', \"weren't\", 'won', \"won't\", 'wouldn', \"wouldn't\"]\n"
          ]
        },
        {
          "output_type": "stream",
          "name": "stderr",
          "text": [
            "[nltk_data] Downloading package stopwords to /root/nltk_data...\n",
            "[nltk_data]   Package stopwords is already up-to-date!\n"
          ]
        }
      ]
    },
    {
      "cell_type": "code",
      "source": [
        "#loading datasets\n",
        "df = pd.read_csv('/Data.csv')"
      ],
      "metadata": {
        "id": "SfD8RklaQQCK"
      },
      "execution_count": 202,
      "outputs": []
    },
    {
      "cell_type": "code",
      "source": [
        "df.head()"
      ],
      "metadata": {
        "colab": {
          "base_uri": "https://localhost:8080/",
          "height": 285
        },
        "id": "2kNSUW1URIqw",
        "outputId": "e3a83a3a-e719-4d98-eda3-e62af98c8e3e"
      },
      "execution_count": 203,
      "outputs": [
        {
          "output_type": "execute_result",
          "data": {
            "text/plain": [
              "   Age Sex                                  Chief_Complaint  \\\n",
              "0   11   M                             fall injury on table   \n",
              "1   21   M                            pain left back region   \n",
              "2   26   M                                deposits on teeth   \n",
              "3   10   M  partially erupted teeth present in upper region   \n",
              "4   80   F          missing teeth in upper and lower region   \n",
              "\n",
              "                    Dental_History                    Medical_History  \\\n",
              "0                             none                               none   \n",
              "1                             none                               none   \n",
              "2                             none                               none   \n",
              "3                             none                               none   \n",
              "4  complete denture since 5 months  cardiac disorder and hypertension   \n",
              "\n",
              "                                    Past_Medication      Department  \n",
              "0                                         zytee gel  Prosthodontics  \n",
              "1                                              none             OMR  \n",
              "2                                              none             OMR  \n",
              "3                                              none             POI  \n",
              "4  medication for hypertension and cardiac disorder  Prosthodontics  "
            ],
            "text/html": [
              "\n",
              "  <div id=\"df-1b9a9714-9aee-4571-8070-25ebb50cacd6\">\n",
              "    <div class=\"colab-df-container\">\n",
              "      <div>\n",
              "<style scoped>\n",
              "    .dataframe tbody tr th:only-of-type {\n",
              "        vertical-align: middle;\n",
              "    }\n",
              "\n",
              "    .dataframe tbody tr th {\n",
              "        vertical-align: top;\n",
              "    }\n",
              "\n",
              "    .dataframe thead th {\n",
              "        text-align: right;\n",
              "    }\n",
              "</style>\n",
              "<table border=\"1\" class=\"dataframe\">\n",
              "  <thead>\n",
              "    <tr style=\"text-align: right;\">\n",
              "      <th></th>\n",
              "      <th>Age</th>\n",
              "      <th>Sex</th>\n",
              "      <th>Chief_Complaint</th>\n",
              "      <th>Dental_History</th>\n",
              "      <th>Medical_History</th>\n",
              "      <th>Past_Medication</th>\n",
              "      <th>Department</th>\n",
              "    </tr>\n",
              "  </thead>\n",
              "  <tbody>\n",
              "    <tr>\n",
              "      <th>0</th>\n",
              "      <td>11</td>\n",
              "      <td>M</td>\n",
              "      <td>fall injury on table</td>\n",
              "      <td>none</td>\n",
              "      <td>none</td>\n",
              "      <td>zytee gel</td>\n",
              "      <td>Prosthodontics</td>\n",
              "    </tr>\n",
              "    <tr>\n",
              "      <th>1</th>\n",
              "      <td>21</td>\n",
              "      <td>M</td>\n",
              "      <td>pain left back region</td>\n",
              "      <td>none</td>\n",
              "      <td>none</td>\n",
              "      <td>none</td>\n",
              "      <td>OMR</td>\n",
              "    </tr>\n",
              "    <tr>\n",
              "      <th>2</th>\n",
              "      <td>26</td>\n",
              "      <td>M</td>\n",
              "      <td>deposits on teeth</td>\n",
              "      <td>none</td>\n",
              "      <td>none</td>\n",
              "      <td>none</td>\n",
              "      <td>OMR</td>\n",
              "    </tr>\n",
              "    <tr>\n",
              "      <th>3</th>\n",
              "      <td>10</td>\n",
              "      <td>M</td>\n",
              "      <td>partially erupted teeth present in upper region</td>\n",
              "      <td>none</td>\n",
              "      <td>none</td>\n",
              "      <td>none</td>\n",
              "      <td>POI</td>\n",
              "    </tr>\n",
              "    <tr>\n",
              "      <th>4</th>\n",
              "      <td>80</td>\n",
              "      <td>F</td>\n",
              "      <td>missing teeth in upper and lower region</td>\n",
              "      <td>complete denture since 5 months</td>\n",
              "      <td>cardiac disorder and hypertension</td>\n",
              "      <td>medication for hypertension and cardiac disorder</td>\n",
              "      <td>Prosthodontics</td>\n",
              "    </tr>\n",
              "  </tbody>\n",
              "</table>\n",
              "</div>\n",
              "      <button class=\"colab-df-convert\" onclick=\"convertToInteractive('df-1b9a9714-9aee-4571-8070-25ebb50cacd6')\"\n",
              "              title=\"Convert this dataframe to an interactive table.\"\n",
              "              style=\"display:none;\">\n",
              "        \n",
              "  <svg xmlns=\"http://www.w3.org/2000/svg\" height=\"24px\"viewBox=\"0 0 24 24\"\n",
              "       width=\"24px\">\n",
              "    <path d=\"M0 0h24v24H0V0z\" fill=\"none\"/>\n",
              "    <path d=\"M18.56 5.44l.94 2.06.94-2.06 2.06-.94-2.06-.94-.94-2.06-.94 2.06-2.06.94zm-11 1L8.5 8.5l.94-2.06 2.06-.94-2.06-.94L8.5 2.5l-.94 2.06-2.06.94zm10 10l.94 2.06.94-2.06 2.06-.94-2.06-.94-.94-2.06-.94 2.06-2.06.94z\"/><path d=\"M17.41 7.96l-1.37-1.37c-.4-.4-.92-.59-1.43-.59-.52 0-1.04.2-1.43.59L10.3 9.45l-7.72 7.72c-.78.78-.78 2.05 0 2.83L4 21.41c.39.39.9.59 1.41.59.51 0 1.02-.2 1.41-.59l7.78-7.78 2.81-2.81c.8-.78.8-2.07 0-2.86zM5.41 20L4 18.59l7.72-7.72 1.47 1.35L5.41 20z\"/>\n",
              "  </svg>\n",
              "      </button>\n",
              "      \n",
              "  <style>\n",
              "    .colab-df-container {\n",
              "      display:flex;\n",
              "      flex-wrap:wrap;\n",
              "      gap: 12px;\n",
              "    }\n",
              "\n",
              "    .colab-df-convert {\n",
              "      background-color: #E8F0FE;\n",
              "      border: none;\n",
              "      border-radius: 50%;\n",
              "      cursor: pointer;\n",
              "      display: none;\n",
              "      fill: #1967D2;\n",
              "      height: 32px;\n",
              "      padding: 0 0 0 0;\n",
              "      width: 32px;\n",
              "    }\n",
              "\n",
              "    .colab-df-convert:hover {\n",
              "      background-color: #E2EBFA;\n",
              "      box-shadow: 0px 1px 2px rgba(60, 64, 67, 0.3), 0px 1px 3px 1px rgba(60, 64, 67, 0.15);\n",
              "      fill: #174EA6;\n",
              "    }\n",
              "\n",
              "    [theme=dark] .colab-df-convert {\n",
              "      background-color: #3B4455;\n",
              "      fill: #D2E3FC;\n",
              "    }\n",
              "\n",
              "    [theme=dark] .colab-df-convert:hover {\n",
              "      background-color: #434B5C;\n",
              "      box-shadow: 0px 1px 3px 1px rgba(0, 0, 0, 0.15);\n",
              "      filter: drop-shadow(0px 1px 2px rgba(0, 0, 0, 0.3));\n",
              "      fill: #FFFFFF;\n",
              "    }\n",
              "  </style>\n",
              "\n",
              "      <script>\n",
              "        const buttonEl =\n",
              "          document.querySelector('#df-1b9a9714-9aee-4571-8070-25ebb50cacd6 button.colab-df-convert');\n",
              "        buttonEl.style.display =\n",
              "          google.colab.kernel.accessAllowed ? 'block' : 'none';\n",
              "\n",
              "        async function convertToInteractive(key) {\n",
              "          const element = document.querySelector('#df-1b9a9714-9aee-4571-8070-25ebb50cacd6');\n",
              "          const dataTable =\n",
              "            await google.colab.kernel.invokeFunction('convertToInteractive',\n",
              "                                                     [key], {});\n",
              "          if (!dataTable) return;\n",
              "\n",
              "          const docLinkHtml = 'Like what you see? Visit the ' +\n",
              "            '<a target=\"_blank\" href=https://colab.research.google.com/notebooks/data_table.ipynb>data table notebook</a>'\n",
              "            + ' to learn more about interactive tables.';\n",
              "          element.innerHTML = '';\n",
              "          dataTable['output_type'] = 'display_data';\n",
              "          await google.colab.output.renderOutput(dataTable, element);\n",
              "          const docLink = document.createElement('div');\n",
              "          docLink.innerHTML = docLinkHtml;\n",
              "          element.appendChild(docLink);\n",
              "        }\n",
              "      </script>\n",
              "    </div>\n",
              "  </div>\n",
              "  "
            ]
          },
          "metadata": {},
          "execution_count": 203
        }
      ]
    },
    {
      "cell_type": "code",
      "source": [
        "df.shape"
      ],
      "metadata": {
        "colab": {
          "base_uri": "https://localhost:8080/"
        },
        "id": "Z8or2hTMRKnm",
        "outputId": "d2c8791a-1847-412f-871b-e7d951050d0c"
      },
      "execution_count": 204,
      "outputs": [
        {
          "output_type": "execute_result",
          "data": {
            "text/plain": [
              "(101, 7)"
            ]
          },
          "metadata": {},
          "execution_count": 204
        }
      ]
    },
    {
      "cell_type": "code",
      "source": [
        "#counting number of missing values\n",
        "df.isnull().sum()"
      ],
      "metadata": {
        "colab": {
          "base_uri": "https://localhost:8080/"
        },
        "id": "ctl9ygUFRQI3",
        "outputId": "dc0a3a80-f188-42c3-813a-31addfb26ba7"
      },
      "execution_count": 205,
      "outputs": [
        {
          "output_type": "execute_result",
          "data": {
            "text/plain": [
              "Age                0\n",
              "Sex                0\n",
              "Chief_Complaint    0\n",
              "Dental_History     0\n",
              "Medical_History    0\n",
              "Past_Medication    0\n",
              "Department         0\n",
              "dtype: int64"
            ]
          },
          "metadata": {},
          "execution_count": 205
        }
      ]
    },
    {
      "cell_type": "code",
      "source": [
        "df.describe()"
      ],
      "metadata": {
        "colab": {
          "base_uri": "https://localhost:8080/",
          "height": 300
        },
        "id": "WZKdLc_nRed6",
        "outputId": "04f82f23-2057-45c5-8f69-13c24b784b39"
      },
      "execution_count": 206,
      "outputs": [
        {
          "output_type": "execute_result",
          "data": {
            "text/plain": [
              "              Age\n",
              "count  101.000000\n",
              "mean    32.326733\n",
              "std     22.772839\n",
              "min      4.000000\n",
              "25%     11.000000\n",
              "50%     26.000000\n",
              "75%     51.000000\n",
              "max     80.000000"
            ],
            "text/html": [
              "\n",
              "  <div id=\"df-6db1550c-598d-4803-bf5f-5c41d01c12bf\">\n",
              "    <div class=\"colab-df-container\">\n",
              "      <div>\n",
              "<style scoped>\n",
              "    .dataframe tbody tr th:only-of-type {\n",
              "        vertical-align: middle;\n",
              "    }\n",
              "\n",
              "    .dataframe tbody tr th {\n",
              "        vertical-align: top;\n",
              "    }\n",
              "\n",
              "    .dataframe thead th {\n",
              "        text-align: right;\n",
              "    }\n",
              "</style>\n",
              "<table border=\"1\" class=\"dataframe\">\n",
              "  <thead>\n",
              "    <tr style=\"text-align: right;\">\n",
              "      <th></th>\n",
              "      <th>Age</th>\n",
              "    </tr>\n",
              "  </thead>\n",
              "  <tbody>\n",
              "    <tr>\n",
              "      <th>count</th>\n",
              "      <td>101.000000</td>\n",
              "    </tr>\n",
              "    <tr>\n",
              "      <th>mean</th>\n",
              "      <td>32.326733</td>\n",
              "    </tr>\n",
              "    <tr>\n",
              "      <th>std</th>\n",
              "      <td>22.772839</td>\n",
              "    </tr>\n",
              "    <tr>\n",
              "      <th>min</th>\n",
              "      <td>4.000000</td>\n",
              "    </tr>\n",
              "    <tr>\n",
              "      <th>25%</th>\n",
              "      <td>11.000000</td>\n",
              "    </tr>\n",
              "    <tr>\n",
              "      <th>50%</th>\n",
              "      <td>26.000000</td>\n",
              "    </tr>\n",
              "    <tr>\n",
              "      <th>75%</th>\n",
              "      <td>51.000000</td>\n",
              "    </tr>\n",
              "    <tr>\n",
              "      <th>max</th>\n",
              "      <td>80.000000</td>\n",
              "    </tr>\n",
              "  </tbody>\n",
              "</table>\n",
              "</div>\n",
              "      <button class=\"colab-df-convert\" onclick=\"convertToInteractive('df-6db1550c-598d-4803-bf5f-5c41d01c12bf')\"\n",
              "              title=\"Convert this dataframe to an interactive table.\"\n",
              "              style=\"display:none;\">\n",
              "        \n",
              "  <svg xmlns=\"http://www.w3.org/2000/svg\" height=\"24px\"viewBox=\"0 0 24 24\"\n",
              "       width=\"24px\">\n",
              "    <path d=\"M0 0h24v24H0V0z\" fill=\"none\"/>\n",
              "    <path d=\"M18.56 5.44l.94 2.06.94-2.06 2.06-.94-2.06-.94-.94-2.06-.94 2.06-2.06.94zm-11 1L8.5 8.5l.94-2.06 2.06-.94-2.06-.94L8.5 2.5l-.94 2.06-2.06.94zm10 10l.94 2.06.94-2.06 2.06-.94-2.06-.94-.94-2.06-.94 2.06-2.06.94z\"/><path d=\"M17.41 7.96l-1.37-1.37c-.4-.4-.92-.59-1.43-.59-.52 0-1.04.2-1.43.59L10.3 9.45l-7.72 7.72c-.78.78-.78 2.05 0 2.83L4 21.41c.39.39.9.59 1.41.59.51 0 1.02-.2 1.41-.59l7.78-7.78 2.81-2.81c.8-.78.8-2.07 0-2.86zM5.41 20L4 18.59l7.72-7.72 1.47 1.35L5.41 20z\"/>\n",
              "  </svg>\n",
              "      </button>\n",
              "      \n",
              "  <style>\n",
              "    .colab-df-container {\n",
              "      display:flex;\n",
              "      flex-wrap:wrap;\n",
              "      gap: 12px;\n",
              "    }\n",
              "\n",
              "    .colab-df-convert {\n",
              "      background-color: #E8F0FE;\n",
              "      border: none;\n",
              "      border-radius: 50%;\n",
              "      cursor: pointer;\n",
              "      display: none;\n",
              "      fill: #1967D2;\n",
              "      height: 32px;\n",
              "      padding: 0 0 0 0;\n",
              "      width: 32px;\n",
              "    }\n",
              "\n",
              "    .colab-df-convert:hover {\n",
              "      background-color: #E2EBFA;\n",
              "      box-shadow: 0px 1px 2px rgba(60, 64, 67, 0.3), 0px 1px 3px 1px rgba(60, 64, 67, 0.15);\n",
              "      fill: #174EA6;\n",
              "    }\n",
              "\n",
              "    [theme=dark] .colab-df-convert {\n",
              "      background-color: #3B4455;\n",
              "      fill: #D2E3FC;\n",
              "    }\n",
              "\n",
              "    [theme=dark] .colab-df-convert:hover {\n",
              "      background-color: #434B5C;\n",
              "      box-shadow: 0px 1px 3px 1px rgba(0, 0, 0, 0.15);\n",
              "      filter: drop-shadow(0px 1px 2px rgba(0, 0, 0, 0.3));\n",
              "      fill: #FFFFFF;\n",
              "    }\n",
              "  </style>\n",
              "\n",
              "      <script>\n",
              "        const buttonEl =\n",
              "          document.querySelector('#df-6db1550c-598d-4803-bf5f-5c41d01c12bf button.colab-df-convert');\n",
              "        buttonEl.style.display =\n",
              "          google.colab.kernel.accessAllowed ? 'block' : 'none';\n",
              "\n",
              "        async function convertToInteractive(key) {\n",
              "          const element = document.querySelector('#df-6db1550c-598d-4803-bf5f-5c41d01c12bf');\n",
              "          const dataTable =\n",
              "            await google.colab.kernel.invokeFunction('convertToInteractive',\n",
              "                                                     [key], {});\n",
              "          if (!dataTable) return;\n",
              "\n",
              "          const docLinkHtml = 'Like what you see? Visit the ' +\n",
              "            '<a target=\"_blank\" href=https://colab.research.google.com/notebooks/data_table.ipynb>data table notebook</a>'\n",
              "            + ' to learn more about interactive tables.';\n",
              "          element.innerHTML = '';\n",
              "          dataTable['output_type'] = 'display_data';\n",
              "          await google.colab.output.renderOutput(dataTable, element);\n",
              "          const docLink = document.createElement('div');\n",
              "          docLink.innerHTML = docLinkHtml;\n",
              "          element.appendChild(docLink);\n",
              "        }\n",
              "      </script>\n",
              "    </div>\n",
              "  </div>\n",
              "  "
            ]
          },
          "metadata": {},
          "execution_count": 206
        }
      ]
    },
    {
      "cell_type": "code",
      "source": [
        "df['Department'].value_counts()"
      ],
      "metadata": {
        "colab": {
          "base_uri": "https://localhost:8080/"
        },
        "id": "-8MlcOAaBFlS",
        "outputId": "4ac93e5b-2678-467f-f2ad-329a060a3726"
      },
      "execution_count": 207,
      "outputs": [
        {
          "output_type": "execute_result",
          "data": {
            "text/plain": [
              "OMR               32\n",
              "Cons & Endo       26\n",
              "POI               19\n",
              "Prosthodontics    17\n",
              "Orthodontics       7\n",
              "Name: Department, dtype: int64"
            ]
          },
          "metadata": {},
          "execution_count": 207
        }
      ]
    },
    {
      "cell_type": "code",
      "source": [
        "#Visualization of department using countplot\n",
        "sns.countplot(x = 'Department', data = df)"
      ],
      "metadata": {
        "colab": {
          "base_uri": "https://localhost:8080/",
          "height": 296
        },
        "id": "yNMoIl6bBMj4",
        "outputId": "6ab7e09c-58b5-4654-f7a6-3b722d49d556"
      },
      "execution_count": 208,
      "outputs": [
        {
          "output_type": "execute_result",
          "data": {
            "text/plain": [
              "<matplotlib.axes._subplots.AxesSubplot at 0x7f2d73b71940>"
            ]
          },
          "metadata": {},
          "execution_count": 208
        },
        {
          "output_type": "display_data",
          "data": {
            "text/plain": [
              "<Figure size 432x288 with 1 Axes>"
            ],
            "image/png": "[encoded data removed]"
          },
          "metadata": {
            "needs_background": "light"
          }
        }
      ]
    },
    {
      "cell_type": "code",
      "source": [
        "# load the Label Encoder function\n",
        "label_encode = LabelEncoder()"
      ],
      "metadata": {
        "id": "ZjdTAFVSCUVc"
      },
      "execution_count": 209,
      "outputs": []
    },
    {
      "cell_type": "code",
      "source": [
        "labels = label_encode.fit_transform(df.Department)"
      ],
      "metadata": {
        "id": "_JIgw7wnCdwM"
      },
      "execution_count": 210,
      "outputs": []
    },
    {
      "cell_type": "code",
      "source": [
        "# appending the labels to the DataFrame\n",
        "df['Label'] = labels"
      ],
      "metadata": {
        "id": "KEYEW_viCn5B"
      },
      "execution_count": 211,
      "outputs": []
    },
    {
      "cell_type": "code",
      "source": [
        "df.head(20)"
      ],
      "metadata": {
        "colab": {
          "base_uri": "https://localhost:8080/",
          "height": 877
        },
        "id": "Ss0QVbTTCuZB",
        "outputId": "ca224bc8-a684-4894-f524-9e76fca9e953"
      },
      "execution_count": 212,
      "outputs": [
        {
          "output_type": "execute_result",
          "data": {
            "text/plain": [
              "    Age Sex                                    Chief_Complaint  \\\n",
              "0    11   M                               fall injury on table   \n",
              "1    21   M                              pain left back region   \n",
              "2    26   M                                  deposits on teeth   \n",
              "3    10   M    partially erupted teeth present in upper region   \n",
              "4    80   F            missing teeth in upper and lower region   \n",
              "5    71   M                decayed teeth in upper back  region   \n",
              "6    12   F  Pain in the lower right back region of jaw for...   \n",
              "7    59   F  multiple missing teeth in upper and lower regi...   \n",
              "8     7   F                decayed tooth in upper front region   \n",
              "9    45   F     decayed teeth in left back region of lower jaw   \n",
              "10   63   M                                      decayed teeth   \n",
              "11   21   M     irregular arranged upper and lower front teeth   \n",
              "12   15   M               irregular arranged upper front teeth   \n",
              "13   35   F                         pain in gums since 6 years   \n",
              "14   12   M                 decayed tooth on upper left region   \n",
              "15   73   F                  placement of all artificial teeth   \n",
              "16   20   M     irregular arranged upper and lower front teeth   \n",
              "17   50   F                      artificial teeth to be placed   \n",
              "18   16   F                                      decayed teeth   \n",
              "19   29   M                   wound in the corner right region   \n",
              "\n",
              "                           Dental_History                    Medical_History  \\\n",
              "0                                    none                               none   \n",
              "1                                    none                               none   \n",
              "2                                    none                               none   \n",
              "3                                    none                               none   \n",
              "4         complete denture since 5 months  cardiac disorder and hypertension   \n",
              "5                                    none                               none   \n",
              "6                                    none                               none   \n",
              "7                       removal of teeth                                none   \n",
              "8                                    none                               none   \n",
              "9                        removal of teeth                               none   \n",
              "10                                   none          hypertension and diabetes   \n",
              "11                                   none                               none   \n",
              "12                                   none                               none   \n",
              "13                                   none                               none   \n",
              "14                                   none                               none   \n",
              "15  removal of teeth and previous denture                               none   \n",
              "16                                   none                               none   \n",
              "17                                   none                               none   \n",
              "18                           RCT of teeth                               none   \n",
              "19                                   none                               none   \n",
              "\n",
              "                                     Past_Medication      Department  Label  \n",
              "0                                          zytee gel  Prosthodontics      4  \n",
              "1                                               none             OMR      1  \n",
              "2                                               none             OMR      1  \n",
              "3                                               none             POI      3  \n",
              "4   medication for hypertension and cardiac disorder  Prosthodontics      4  \n",
              "5                                               none             OMR      1  \n",
              "6                                               none             OMR      1  \n",
              "7                                    HTN for 3 years  Prosthodontics      4  \n",
              "8                                               none     Cons & Endo      0  \n",
              "9                                               none     Cons & Endo      0  \n",
              "10                       HTN and diabetes medication     Cons & Endo      0  \n",
              "11                                              none    Orthodontics      2  \n",
              "12                                              none    Orthodontics      2  \n",
              "13                                              none             POI      3  \n",
              "14                                              none     Cons & Endo      0  \n",
              "15                                              none  Prosthodontics      4  \n",
              "16                                              none    Orthodontics      2  \n",
              "17                                              none  Prosthodontics      4  \n",
              "18                                              none     Cons & Endo      0  \n",
              "19                                              none             OMR      1  "
            ],
            "text/html": [
              "\n",
              "  <div id=\"df-54031448-9066-4f0d-bc12-548e108e5742\">\n",
              "    <div class=\"colab-df-container\">\n",
              "      <div>\n",
              "<style scoped>\n",
              "    .dataframe tbody tr th:only-of-type {\n",
              "        vertical-align: middle;\n",
              "    }\n",
              "\n",
              "    .dataframe tbody tr th {\n",
              "        vertical-align: top;\n",
              "    }\n",
              "\n",
              "    .dataframe thead th {\n",
              "        text-align: right;\n",
              "    }\n",
              "</style>\n",
              "<table border=\"1\" class=\"dataframe\">\n",
              "  <thead>\n",
              "    <tr style=\"text-align: right;\">\n",
              "      <th></th>\n",
              "      <th>Age</th>\n",
              "      <th>Sex</th>\n",
              "      <th>Chief_Complaint</th>\n",
              "      <th>Dental_History</th>\n",
              "      <th>Medical_History</th>\n",
              "      <th>Past_Medication</th>\n",
              "      <th>Department</th>\n",
              "      <th>Label</th>\n",
              "    </tr>\n",
              "  </thead>\n",
              "  <tbody>\n",
              "    <tr>\n",
              "      <th>0</th>\n",
              "      <td>11</td>\n",
              "      <td>M</td>\n",
              "      <td>fall injury on table</td>\n",
              "      <td>none</td>\n",
              "      <td>none</td>\n",
              "      <td>zytee gel</td>\n",
              "      <td>Prosthodontics</td>\n",
              "      <td>4</td>\n",
              "    </tr>\n",
              "    <tr>\n",
              "      <th>1</th>\n",
              "      <td>21</td>\n",
              "      <td>M</td>\n",
              "      <td>pain left back region</td>\n",
              "      <td>none</td>\n",
              "      <td>none</td>\n",
              "      <td>none</td>\n",
              "      <td>OMR</td>\n",
              "      <td>1</td>\n",
              "    </tr>\n",
              "    <tr>\n",
              "      <th>2</th>\n",
              "      <td>26</td>\n",
              "      <td>M</td>\n",
              "      <td>deposits on teeth</td>\n",
              "      <td>none</td>\n",
              "      <td>none</td>\n",
              "      <td>none</td>\n",
              "      <td>OMR</td>\n",
              "      <td>1</td>\n",
              "    </tr>\n",
              "    <tr>\n",
              "      <th>3</th>\n",
              "      <td>10</td>\n",
              "      <td>M</td>\n",
              "      <td>partially erupted teeth present in upper region</td>\n",
              "      <td>none</td>\n",
              "      <td>none</td>\n",
              "      <td>none</td>\n",
              "      <td>POI</td>\n",
              "      <td>3</td>\n",
              "    </tr>\n",
              "    <tr>\n",
              "      <th>4</th>\n",
              "      <td>80</td>\n",
              "      <td>F</td>\n",
              "      <td>missing teeth in upper and lower region</td>\n",
              "      <td>complete denture since 5 months</td>\n",
              "      <td>cardiac disorder and hypertension</td>\n",
              "      <td>medication for hypertension and cardiac disorder</td>\n",
              "      <td>Prosthodontics</td>\n",
              "      <td>4</td>\n",
              "    </tr>\n",
              "    <tr>\n",
              "      <th>5</th>\n",
              "      <td>71</td>\n",
              "      <td>M</td>\n",
              "      <td>decayed teeth in upper back  region</td>\n",
              "      <td>none</td>\n",
              "      <td>none</td>\n",
              "      <td>none</td>\n",
              "      <td>OMR</td>\n",
              "      <td>1</td>\n",
              "    </tr>\n",
              "    <tr>\n",
              "      <th>6</th>\n",
              "      <td>12</td>\n",
              "      <td>F</td>\n",
              "      <td>Pain in the lower right back region of jaw for...</td>\n",
              "      <td>none</td>\n",
              "      <td>none</td>\n",
              "      <td>none</td>\n",
              "      <td>OMR</td>\n",
              "      <td>1</td>\n",
              "    </tr>\n",
              "    <tr>\n",
              "      <th>7</th>\n",
              "      <td>59</td>\n",
              "      <td>F</td>\n",
              "      <td>multiple missing teeth in upper and lower regi...</td>\n",
              "      <td>removal of teeth</td>\n",
              "      <td>none</td>\n",
              "      <td>HTN for 3 years</td>\n",
              "      <td>Prosthodontics</td>\n",
              "      <td>4</td>\n",
              "    </tr>\n",
              "    <tr>\n",
              "      <th>8</th>\n",
              "      <td>7</td>\n",
              "      <td>F</td>\n",
              "      <td>decayed tooth in upper front region</td>\n",
              "      <td>none</td>\n",
              "      <td>none</td>\n",
              "      <td>none</td>\n",
              "      <td>Cons &amp; Endo</td>\n",
              "      <td>0</td>\n",
              "    </tr>\n",
              "    <tr>\n",
              "      <th>9</th>\n",
              "      <td>45</td>\n",
              "      <td>F</td>\n",
              "      <td>decayed teeth in left back region of lower jaw</td>\n",
              "      <td>removal of teeth</td>\n",
              "      <td>none</td>\n",
              "      <td>none</td>\n",
              "      <td>Cons &amp; Endo</td>\n",
              "      <td>0</td>\n",
              "    </tr>\n",
              "    <tr>\n",
              "      <th>10</th>\n",
              "      <td>63</td>\n",
              "      <td>M</td>\n",
              "      <td>decayed teeth</td>\n",
              "      <td>none</td>\n",
              "      <td>hypertension and diabetes</td>\n",
              "      <td>HTN and diabetes medication</td>\n",
              "      <td>Cons &amp; Endo</td>\n",
              "      <td>0</td>\n",
              "    </tr>\n",
              "    <tr>\n",
              "      <th>11</th>\n",
              "      <td>21</td>\n",
              "      <td>M</td>\n",
              "      <td>irregular arranged upper and lower front teeth</td>\n",
              "      <td>none</td>\n",
              "      <td>none</td>\n",
              "      <td>none</td>\n",
              "      <td>Orthodontics</td>\n",
              "      <td>2</td>\n",
              "    </tr>\n",
              "    <tr>\n",
              "      <th>12</th>\n",
              "      <td>15</td>\n",
              "      <td>M</td>\n",
              "      <td>irregular arranged upper front teeth</td>\n",
              "      <td>none</td>\n",
              "      <td>none</td>\n",
              "      <td>none</td>\n",
              "      <td>Orthodontics</td>\n",
              "      <td>2</td>\n",
              "    </tr>\n",
              "    <tr>\n",
              "      <th>13</th>\n",
              "      <td>35</td>\n",
              "      <td>F</td>\n",
              "      <td>pain in gums since 6 years</td>\n",
              "      <td>none</td>\n",
              "      <td>none</td>\n",
              "      <td>none</td>\n",
              "      <td>POI</td>\n",
              "      <td>3</td>\n",
              "    </tr>\n",
              "    <tr>\n",
              "      <th>14</th>\n",
              "      <td>12</td>\n",
              "      <td>M</td>\n",
              "      <td>decayed tooth on upper left region</td>\n",
              "      <td>none</td>\n",
              "      <td>none</td>\n",
              "      <td>none</td>\n",
              "      <td>Cons &amp; Endo</td>\n",
              "      <td>0</td>\n",
              "    </tr>\n",
              "    <tr>\n",
              "      <th>15</th>\n",
              "      <td>73</td>\n",
              "      <td>F</td>\n",
              "      <td>placement of all artificial teeth</td>\n",
              "      <td>removal of teeth and previous denture</td>\n",
              "      <td>none</td>\n",
              "      <td>none</td>\n",
              "      <td>Prosthodontics</td>\n",
              "      <td>4</td>\n",
              "    </tr>\n",
              "    <tr>\n",
              "      <th>16</th>\n",
              "      <td>20</td>\n",
              "      <td>M</td>\n",
              "      <td>irregular arranged upper and lower front teeth</td>\n",
              "      <td>none</td>\n",
              "      <td>none</td>\n",
              "      <td>none</td>\n",
              "      <td>Orthodontics</td>\n",
              "      <td>2</td>\n",
              "    </tr>\n",
              "    <tr>\n",
              "      <th>17</th>\n",
              "      <td>50</td>\n",
              "      <td>F</td>\n",
              "      <td>artificial teeth to be placed</td>\n",
              "      <td>none</td>\n",
              "      <td>none</td>\n",
              "      <td>none</td>\n",
              "      <td>Prosthodontics</td>\n",
              "      <td>4</td>\n",
              "    </tr>\n",
              "    <tr>\n",
              "      <th>18</th>\n",
              "      <td>16</td>\n",
              "      <td>F</td>\n",
              "      <td>decayed teeth</td>\n",
              "      <td>RCT of teeth</td>\n",
              "      <td>none</td>\n",
              "      <td>none</td>\n",
              "      <td>Cons &amp; Endo</td>\n",
              "      <td>0</td>\n",
              "    </tr>\n",
              "    <tr>\n",
              "      <th>19</th>\n",
              "      <td>29</td>\n",
              "      <td>M</td>\n",
              "      <td>wound in the corner right region</td>\n",
              "      <td>none</td>\n",
              "      <td>none</td>\n",
              "      <td>none</td>\n",
              "      <td>OMR</td>\n",
              "      <td>1</td>\n",
              "    </tr>\n",
              "  </tbody>\n",
              "</table>\n",
              "</div>\n",
              "      <button class=\"colab-df-convert\" onclick=\"convertToInteractive('df-54031448-9066-4f0d-bc12-548e108e5742')\"\n",
              "              title=\"Convert this dataframe to an interactive table.\"\n",
              "              style=\"display:none;\">\n",
              "        \n",
              "  <svg xmlns=\"http://www.w3.org/2000/svg\" height=\"24px\"viewBox=\"0 0 24 24\"\n",
              "       width=\"24px\">\n",
              "    <path d=\"M0 0h24v24H0V0z\" fill=\"none\"/>\n",
              "    <path d=\"M18.56 5.44l.94 2.06.94-2.06 2.06-.94-2.06-.94-.94-2.06-.94 2.06-2.06.94zm-11 1L8.5 8.5l.94-2.06 2.06-.94-2.06-.94L8.5 2.5l-.94 2.06-2.06.94zm10 10l.94 2.06.94-2.06 2.06-.94-2.06-.94-.94-2.06-.94 2.06-2.06.94z\"/><path d=\"M17.41 7.96l-1.37-1.37c-.4-.4-.92-.59-1.43-.59-.52 0-1.04.2-1.43.59L10.3 9.45l-7.72 7.72c-.78.78-.78 2.05 0 2.83L4 21.41c.39.39.9.59 1.41.59.51 0 1.02-.2 1.41-.59l7.78-7.78 2.81-2.81c.8-.78.8-2.07 0-2.86zM5.41 20L4 18.59l7.72-7.72 1.47 1.35L5.41 20z\"/>\n",
              "  </svg>\n",
              "      </button>\n",
              "      \n",
              "  <style>\n",
              "    .colab-df-container {\n",
              "      display:flex;\n",
              "      flex-wrap:wrap;\n",
              "      gap: 12px;\n",
              "    }\n",
              "\n",
              "    .colab-df-convert {\n",
              "      background-color: #E8F0FE;\n",
              "      border: none;\n",
              "      border-radius: 50%;\n",
              "      cursor: pointer;\n",
              "      display: none;\n",
              "      fill: #1967D2;\n",
              "      height: 32px;\n",
              "      padding: 0 0 0 0;\n",
              "      width: 32px;\n",
              "    }\n",
              "\n",
              "    .colab-df-convert:hover {\n",
              "      background-color: #E2EBFA;\n",
              "      box-shadow: 0px 1px 2px rgba(60, 64, 67, 0.3), 0px 1px 3px 1px rgba(60, 64, 67, 0.15);\n",
              "      fill: #174EA6;\n",
              "    }\n",
              "\n",
              "    [theme=dark] .colab-df-convert {\n",
              "      background-color: #3B4455;\n",
              "      fill: #D2E3FC;\n",
              "    }\n",
              "\n",
              "    [theme=dark] .colab-df-convert:hover {\n",
              "      background-color: #434B5C;\n",
              "      box-shadow: 0px 1px 3px 1px rgba(0, 0, 0, 0.15);\n",
              "      filter: drop-shadow(0px 1px 2px rgba(0, 0, 0, 0.3));\n",
              "      fill: #FFFFFF;\n",
              "    }\n",
              "  </style>\n",
              "\n",
              "      <script>\n",
              "        const buttonEl =\n",
              "          document.querySelector('#df-54031448-9066-4f0d-bc12-548e108e5742 button.colab-df-convert');\n",
              "        buttonEl.style.display =\n",
              "          google.colab.kernel.accessAllowed ? 'block' : 'none';\n",
              "\n",
              "        async function convertToInteractive(key) {\n",
              "          const element = document.querySelector('#df-54031448-9066-4f0d-bc12-548e108e5742');\n",
              "          const dataTable =\n",
              "            await google.colab.kernel.invokeFunction('convertToInteractive',\n",
              "                                                     [key], {});\n",
              "          if (!dataTable) return;\n",
              "\n",
              "          const docLinkHtml = 'Like what you see? Visit the ' +\n",
              "            '<a target=\"_blank\" href=https://colab.research.google.com/notebooks/data_table.ipynb>data table notebook</a>'\n",
              "            + ' to learn more about interactive tables.';\n",
              "          element.innerHTML = '';\n",
              "          dataTable['output_type'] = 'display_data';\n",
              "          await google.colab.output.renderOutput(dataTable, element);\n",
              "          const docLink = document.createElement('div');\n",
              "          docLink.innerHTML = docLinkHtml;\n",
              "          element.appendChild(docLink);\n",
              "        }\n",
              "      </script>\n",
              "    </div>\n",
              "  </div>\n",
              "  "
            ]
          },
          "metadata": {},
          "execution_count": 212
        }
      ]
    },
    {
      "cell_type": "code",
      "source": [
        "#Seperating features and target\n",
        "X = df.drop(columns= ['Age','Sex', 'Dental_History', 'Medical_History', 'Past_Medication', 'Department','Label'],axis=1)\n",
        "Y = df['Label']"
      ],
      "metadata": {
        "id": "aLAkwLDOE4Ga"
      },
      "execution_count": 213,
      "outputs": []
    },
    {
      "cell_type": "code",
      "source": [
        "print(X)\n"
      ],
      "metadata": {
        "colab": {
          "base_uri": "https://localhost:8080/"
        },
        "id": "n1gRFErXIZ3J",
        "outputId": "5af20a36-bf30-4ce5-e4d1-456a705dd8f7"
      },
      "execution_count": 214,
      "outputs": [
        {
          "output_type": "stream",
          "name": "stdout",
          "text": [
            "                                     Chief_Complaint\n",
            "0                               fall injury on table\n",
            "1                              pain left back region\n",
            "2                                  deposits on teeth\n",
            "3    partially erupted teeth present in upper region\n",
            "4            missing teeth in upper and lower region\n",
            "..                                               ...\n",
            "96            decayed tooth in right back regionafo \n",
            "97                       upper and lower jaw paining\n",
            "98      pain in lower right back region since 1 week\n",
            "99            decayed lower left tooth since 2 years\n",
            "100          swelling in the left upper front region\n",
            "\n",
            "[101 rows x 1 columns]\n"
          ]
        }
      ]
    },
    {
      "cell_type": "code",
      "source": [
        "print (Y)"
      ],
      "metadata": {
        "colab": {
          "base_uri": "https://localhost:8080/"
        },
        "id": "_9Y6TYy3IetH",
        "outputId": "fcfff6d9-c1b6-4be1-e451-aa2f89eeadce"
      },
      "execution_count": 215,
      "outputs": [
        {
          "output_type": "stream",
          "name": "stdout",
          "text": [
            "0      4\n",
            "1      1\n",
            "2      1\n",
            "3      3\n",
            "4      4\n",
            "      ..\n",
            "96     0\n",
            "97     1\n",
            "98     1\n",
            "99     0\n",
            "100    3\n",
            "Name: Label, Length: 101, dtype: int64\n"
          ]
        }
      ]
    },
    {
      "cell_type": "code",
      "source": [
        " #Stemming\n",
        " port_stem = PorterStemmer()"
      ],
      "metadata": {
        "id": "BqklPJEYIgzh"
      },
      "execution_count": 216,
      "outputs": []
    },
    {
      "cell_type": "code",
      "source": [
        "def stemming(Chief_Complaint):\n",
        "    stemmed_Chief_Complaint = re.sub('[^a-zA-Z]',' ',Chief_Complaint)\n",
        "    stemmed_Chief_Complaint = stemmed_Chief_Complaint.lower()\n",
        "    stemmed_Chief_Complaint = stemmed_Chief_Complaint.split()\n",
        "    stemmed_Chief_Complaint = [port_stem.stem(word) for word in stemmed_Chief_Complaint if not word in stopwords.words('english')]\n",
        "    stemmed_Chief_Complaint = ' '.join(stemmed_Chief_Complaint)\n",
        "    return stemmed_Chief_Complaint"
      ],
      "metadata": {
        "id": "pOUxLUlKPJ2t"
      },
      "execution_count": 218,
      "outputs": []
    },
    {
      "cell_type": "code",
      "source": [
        "df['Chief_Complaint'] = df['Chief_Complaint'].apply(stemming)"
      ],
      "metadata": {
        "id": "cxzaG5_bPNNC"
      },
      "execution_count": 219,
      "outputs": []
    },
    {
      "cell_type": "code",
      "source": [
        "print (df['Chief_Complaint'])"
      ],
      "metadata": {
        "colab": {
          "base_uri": "https://localhost:8080/"
        },
        "id": "53Ym1oSiPPuL",
        "outputId": "c08be06e-c9a2-419a-ef9b-6cbed1cb07a7"
      },
      "execution_count": 220,
      "outputs": [
        {
          "output_type": "stream",
          "name": "stdout",
          "text": [
            "0                              fall injuri tabl\n",
            "1                         pain left back region\n",
            "2                                 deposit teeth\n",
            "3      partial erupt teeth present upper region\n",
            "4                 miss teeth upper lower region\n",
            "                         ...                   \n",
            "96             decay tooth right back regionafo\n",
            "97                         upper lower jaw pain\n",
            "98       pain lower right back region sinc week\n",
            "99             decay lower left tooth sinc year\n",
            "100               swell left upper front region\n",
            "Name: Chief_Complaint, Length: 101, dtype: object\n"
          ]
        }
      ]
    },
    {
      "cell_type": "code",
      "source": [
        "#Seperating data and label\n",
        "X = df['Chief_Complaint'].values\n",
        "Y = df['Department'].values"
      ],
      "metadata": {
        "id": "5syJxdVtPR_S"
      },
      "execution_count": 221,
      "outputs": []
    },
    {
      "cell_type": "code",
      "source": [
        "print(X)\n"
      ],
      "metadata": {
        "colab": {
          "base_uri": "https://localhost:8080/"
        },
        "id": "eMbS-jdNPXbi",
        "outputId": "9149f95d-41fc-45b4-c30e-7dd2fc159cc0"
      },
      "execution_count": 222,
      "outputs": [
        {
          "output_type": "stream",
          "name": "stdout",
          "text": [
            "['fall injuri tabl' 'pain left back region' 'deposit teeth'\n",
            " 'partial erupt teeth present upper region'\n",
            " 'miss teeth upper lower region' 'decay teeth upper back region'\n",
            " 'pain lower right back region jaw day'\n",
            " 'multipl miss teeth upper lower region mouth'\n",
            " 'decay tooth upper front region' 'decay teeth left back region lower jaw'\n",
            " 'decay teeth' 'irregular arrang upper lower front teeth'\n",
            " 'irregular arrang upper front teeth' 'pain gum sinc year'\n",
            " 'decay tooth upper left region' 'placement artifici teeth'\n",
            " 'irregular arrang upper lower front teeth' 'artifici teeth place'\n",
            " 'decay teeth' 'wound corner right region'\n",
            " 'pain lower left region mouth month' 'fall injuri' 'deposit teeth'\n",
            " 'replac miss teeth' 'mobil tooth right front region lower jaw'\n",
            " 'swell present lower surfac tongu day'\n",
            " 'decay tooth left lower back region' 'bleed gum month'\n",
            " 'fractur fragment lower left region' 'upper complet dentur fell'\n",
            " 'teeth need scale' 'pain left back region lower jaw sinc day'\n",
            " 'sensit teeth sinc year' 'road traffic accid week back'\n",
            " 'pain left back region upper jaw' 'bleed gum'\n",
            " 'irregular arrang upper lower front teeth'\n",
            " 'multipl miss teeth upper lower region mouth' 'miss teeth mouth'\n",
            " 'irregular teeth lower back region' 'decay tooth lower back region'\n",
            " 'decay tooth lower left back region sinc month'\n",
            " 'decay tooth left back lower right region tooth region'\n",
            " 'loosen teeth right back region upper jaw'\n",
            " 'pain left lower back region jaw day' 'decay tooth upper back region'\n",
            " 'long teeth upper region' 'pain lower left region'\n",
            " 'remain fragment tooth left lower region'\n",
            " 'remain fragment tooth right lower back region'\n",
            " 'decay tooth upper front region mouth'\n",
            " 'decay tooth right back region lower jaw'\n",
            " 'pain left upper back region mouth month' 'remain tooth fragment'\n",
            " 'pain right back region' 'decay tooth upper right region'\n",
            " 'miss teeth upper lower jaw' 'pain right upper back region month'\n",
            " 'pain right back region lower jaw' 'pu drain inferior front tooth region'\n",
            " 'decay teeth lower right back region' 'pain lower region mouth'\n",
            " 'decay teeth left upper back region sinc month' 'clean teeth'\n",
            " 'pain lower right back region jaw' 'pain left lower back region jaw day'\n",
            " 'pain upper back region sinc month' 'decay tooth lower right left region'\n",
            " 'decay tooth upper front region mouth year'\n",
            " 'pain left back region upper jaw' 'irregular arrang upper front teeth'\n",
            " 'swell upper left back region sinc day' 'pain gum sinc week'\n",
            " 'upper lower jaw pain' 'decay teeth upper front region'\n",
            " 'pain left lower back region' 'miss teeth mouth'\n",
            " 'pain lower mouth sinc day' 'pain left back region'\n",
            " 'pain left upper back region day' 'pain left region upper jaw'\n",
            " 'miss teeth upper lower jaw'\n",
            " 'partial erupt teeth present upper front region jaw'\n",
            " 'pain upper left back region' 'decay teeth multipl place'\n",
            " 'pain gum left lower upper back region sinc week'\n",
            " 'decay tooth upper right region' 'swell right side tongu sinc week'\n",
            " 'decay tooth right back region upper jaw sinc year'\n",
            " 'pain upper left back tooth sinc month'\n",
            " 'irregular arrang upper lower front teeth'\n",
            " 'miss part teeth upper front region' 'pain right back region lower jaw'\n",
            " 'decay tooth right upper back tooth region' 'pain lower mouth day'\n",
            " 'pain upper left back region' 'decay tooth right back regionafo'\n",
            " 'upper lower jaw pain' 'pain lower right back region sinc week'\n",
            " 'decay lower left tooth sinc year' 'swell left upper front region']\n"
          ]
        }
      ]
    },
    {
      "cell_type": "code",
      "source": [
        "print(Y)"
      ],
      "metadata": {
        "colab": {
          "base_uri": "https://localhost:8080/"
        },
        "id": "58Lypy-8PZ3B",
        "outputId": "23e648a6-32a6-476f-dfd0-dc01252cc477"
      },
      "execution_count": 223,
      "outputs": [
        {
          "output_type": "stream",
          "name": "stdout",
          "text": [
            "['Prosthodontics' 'OMR' 'OMR' 'POI' 'Prosthodontics' 'OMR' 'OMR'\n",
            " 'Prosthodontics' 'Cons & Endo' 'Cons & Endo' 'Cons & Endo' 'Orthodontics'\n",
            " 'Orthodontics' 'POI' 'Cons & Endo' 'Prosthodontics' 'Orthodontics'\n",
            " 'Prosthodontics' 'Cons & Endo' 'OMR' 'OMR' 'Prosthodontics' 'OMR'\n",
            " 'Prosthodontics' 'POI' 'POI' 'Cons & Endo' 'POI' 'Cons & Endo'\n",
            " 'Prosthodontics' 'POI' 'OMR' 'POI' 'Prosthodontics' 'OMR' 'POI'\n",
            " 'Orthodontics' 'Prosthodontics' 'Prosthodontics' 'Orthodontics'\n",
            " 'Cons & Endo' 'Cons & Endo' 'Cons & Endo' 'POI' 'OMR' 'Cons & Endo'\n",
            " 'Prosthodontics' 'OMR' 'POI' 'POI' 'Cons & Endo' 'Cons & Endo' 'OMR'\n",
            " 'POI' 'OMR' 'Cons & Endo' 'Prosthodontics' 'OMR' 'OMR' 'Cons & Endo'\n",
            " 'Cons & Endo' 'OMR' 'Cons & Endo' 'POI' 'OMR' 'OMR' 'OMR' 'Cons & Endo'\n",
            " 'Cons & Endo' 'OMR' 'Orthodontics' 'POI' 'POI' 'Prosthodontics'\n",
            " 'Cons & Endo' 'OMR' 'Prosthodontics' 'OMR' 'OMR' 'OMR' 'OMR'\n",
            " 'Prosthodontics' 'POI' 'OMR' 'Cons & Endo' 'POI' 'Cons & Endo' 'POI'\n",
            " 'Cons & Endo' 'OMR' 'Orthodontics' 'Prosthodontics' 'OMR' 'Cons & Endo'\n",
            " 'OMR' 'OMR' 'Cons & Endo' 'OMR' 'OMR' 'Cons & Endo' 'POI']\n"
          ]
        }
      ]
    },
    {
      "cell_type": "code",
      "source": [
        "# converting the textual data to numerical data(vectorizing)\n",
        "vectorizer = TfidfVectorizer()\n",
        "vectorizer.fit(X)\n",
        "\n",
        "X = vectorizer.transform(X)"
      ],
      "metadata": {
        "id": "jzuYcOSIPfRH"
      },
      "execution_count": 224,
      "outputs": []
    },
    {
      "cell_type": "code",
      "source": [
        "print(X)"
      ],
      "metadata": {
        "colab": {
          "base_uri": "https://localhost:8080/"
        },
        "id": "2lkhVJvhWt5V",
        "outputId": "3669842c-c076-476d-82f4-f3b69151f0f3"
      },
      "execution_count": 225,
      "outputs": [
        {
          "output_type": "stream",
          "name": "stdout",
          "text": [
            "  (0, 53)\t0.6103165810080543\n",
            "  (0, 21)\t0.5601400141690643\n",
            "  (0, 14)\t0.5601400141690643\n",
            "  (1, 41)\t0.37853217558060337\n",
            "  (1, 34)\t0.5437116170416159\n",
            "  (1, 24)\t0.5680583861221443\n",
            "  (1, 3)\t0.48826298190679107\n",
            "  (2, 54)\t0.4111335307374386\n",
            "  (2, 11)\t0.9115751312444672\n",
            "  (3, 58)\t0.21951705448302253\n",
            "  (3, 54)\t0.2464562487877183\n",
            "  (3, 41)\t0.17889615861984368\n",
            "  (3, 39)\t0.5117180476221626\n",
            "  (3, 36)\t0.5464487095754779\n",
            "  (3, 13)\t0.5464487095754779\n",
            "  (4, 58)\t0.3690922022895724\n",
            "  (4, 54)\t0.41438730055536965\n",
            "  (4, 41)\t0.3007929261881085\n",
            "  (4, 28)\t0.6743994051422116\n",
            "  (4, 27)\t0.3830968144562068\n",
            "  (5, 58)\t0.4179727027095934\n",
            "  (5, 54)\t0.46926642965427334\n",
            "  (5, 41)\t0.3406282536853336\n",
            "  (5, 9)\t0.5440708667588517\n",
            "  (5, 3)\t0.4393712809512254\n",
            "  :\t:\n",
            "  (96, 42)\t0.727263354887526\n",
            "  (96, 9)\t0.34902742082559046\n",
            "  (96, 3)\t0.2818614896415921\n",
            "  (97, 58)\t0.4278998634735608\n",
            "  (97, 34)\t0.500888093128655\n",
            "  (97, 27)\t0.4441358381078922\n",
            "  (97, 23)\t0.6072529804862616\n",
            "  (98, 59)\t0.5832588645674408\n",
            "  (98, 50)\t0.4340166218070126\n",
            "  (98, 45)\t0.3855609411657377\n",
            "  (98, 41)\t0.22547537078102475\n",
            "  (98, 34)\t0.3238656747273105\n",
            "  (98, 27)\t0.2871706372194519\n",
            "  (98, 3)\t0.2908373025759868\n",
            "  (99, 61)\t0.5850616587105588\n",
            "  (99, 56)\t0.3734721630109417\n",
            "  (99, 50)\t0.4353581232763299\n",
            "  (99, 27)\t0.28805825260655565\n",
            "  (99, 24)\t0.339413861386564\n",
            "  (99, 9)\t0.36125527991160206\n",
            "  (100, 58)\t0.30864120287769403\n",
            "  (100, 52)\t0.6815995630496398\n",
            "  (100, 41)\t0.25152818179280745\n",
            "  (100, 24)\t0.37746511982581665\n",
            "  (100, 18)\t0.4841655714893787\n"
          ]
        }
      ]
    },
    {
      "cell_type": "code",
      "source": [
        "#Splitting data into training data and testing data\n",
        "X_train, X_test, Y_train, Y_test = train_test_split(X, Y, test_size = 0.2, random_state = 2)\n",
        "print(X.shape, X_train.shape, X_test.shape)"
      ],
      "metadata": {
        "colab": {
          "base_uri": "https://localhost:8080/"
        },
        "id": "yRW6XfDsPnhD",
        "outputId": "91f97e13-c9fc-47f9-9cee-a7e72c7b2cef"
      },
      "execution_count": 226,
      "outputs": [
        {
          "output_type": "stream",
          "name": "stdout",
          "text": [
            "(101, 62) (80, 62) (21, 62)\n"
          ]
        }
      ]
    },
    {
      "cell_type": "code",
      "source": [
        "print (X_train)"
      ],
      "metadata": {
        "colab": {
          "base_uri": "https://localhost:8080/"
        },
        "id": "VPbOyBdCEW6p",
        "outputId": "02458670-7198-44c3-da04-cb67967eafb0"
      },
      "execution_count": 227,
      "outputs": [
        {
          "output_type": "stream",
          "name": "stdout",
          "text": [
            "  (0, 58)\t0.27022402656469063\n",
            "  (0, 54)\t0.30338599466128097\n",
            "  (0, 27)\t0.2804772442340679\n",
            "  (0, 22)\t0.5269110141070082\n",
            "  (0, 18)\t0.4239005325018127\n",
            "  (0, 1)\t0.5467554763647249\n",
            "  (1, 58)\t0.2795475351810031\n",
            "  (1, 56)\t0.37619000542522546\n",
            "  (1, 50)\t0.43852632398854396\n",
            "  (1, 34)\t0.3272308401759516\n",
            "  (1, 30)\t0.5269829677524555\n",
            "  (1, 24)\t0.3418838537443216\n",
            "  (1, 3)\t0.29385928273065665\n",
            "  (2, 41)\t0.24499472032455297\n",
            "  (2, 34)\t0.35190264962286294\n",
            "  (2, 27)\t0.3120309313930803\n",
            "  (2, 24)\t0.36766043790741637\n",
            "  (2, 23)\t0.4266300911441472\n",
            "  (2, 8)\t0.5492958087270106\n",
            "  (2, 3)\t0.3160150191026883\n",
            "  (3, 58)\t0.25870586733523065\n",
            "  (3, 52)\t0.5713229617108105\n",
            "  (3, 50)\t0.4058319917695921\n",
            "  (3, 41)\t0.21083321288035536\n",
            "  (3, 24)\t0.31639470136471576\n",
            "  :\t:\n",
            "  (74, 36)\t0.4956197578849488\n",
            "  (74, 23)\t0.28254978440499856\n",
            "  (74, 18)\t0.3123255217762912\n",
            "  (74, 13)\t0.4956197578849488\n",
            "  (75, 58)\t0.2553023273187021\n",
            "  (75, 54)\t0.2866331003116108\n",
            "  (75, 45)\t0.35577992919405504\n",
            "  (75, 41)\t0.2080594865468829\n",
            "  (75, 26)\t0.6924596674627472\n",
            "  (75, 23)\t0.36231163508875536\n",
            "  (75, 3)\t0.26837281443660305\n",
            "  (76, 54)\t0.4111335307374386\n",
            "  (76, 11)\t0.9115751312444672\n",
            "  (77, 59)\t0.5911012455574078\n",
            "  (77, 50)\t0.43985232171825756\n",
            "  (77, 34)\t0.32822030723284124\n",
            "  (77, 19)\t0.5911012455574078\n",
            "  (78, 54)\t0.291700634829312\n",
            "  (78, 38)\t0.7047020193166277\n",
            "  (78, 2)\t0.6467656481379044\n",
            "  (79, 56)\t0.5339522672099399\n",
            "  (79, 41)\t0.3233579908661027\n",
            "  (79, 27)\t0.4118362017339905\n",
            "  (79, 9)\t0.516485818367968\n",
            "  (79, 3)\t0.41709462769315625\n"
          ]
        }
      ]
    },
    {
      "cell_type": "markdown",
      "source": [
        "**Logistic Regression**"
      ],
      "metadata": {
        "id": "Gzc5ZHBifnpS"
      }
    },
    {
      "cell_type": "code",
      "source": [
        "#training using logistic regression\n",
        "LR_model = LogisticRegression()"
      ],
      "metadata": {
        "id": "3FGfnVyyPr_1"
      },
      "execution_count": 228,
      "outputs": []
    },
    {
      "cell_type": "code",
      "source": [
        "LR_model.fit(X_train, Y_train)"
      ],
      "metadata": {
        "colab": {
          "base_uri": "https://localhost:8080/"
        },
        "id": "elJsqxwVPwbK",
        "outputId": "a4422e82-09a1-4a8a-db13-d0c922cf74d5"
      },
      "execution_count": 229,
      "outputs": [
        {
          "output_type": "execute_result",
          "data": {
            "text/plain": [
              "LogisticRegression()"
            ]
          },
          "metadata": {},
          "execution_count": 229
        }
      ]
    },
    {
      "cell_type": "code",
      "source": [
        "# accuracy on training data\n",
        "X_train_prediction = LR_model.predict(X_train)\n",
        "LR_training_data_accuracy = accuracy_score(Y_train, X_train_prediction)"
      ],
      "metadata": {
        "id": "s2Y3agwtPyf-"
      },
      "execution_count": 230,
      "outputs": []
    },
    {
      "cell_type": "code",
      "source": [
        "print('Accuracy on training data = ', LR_training_data_accuracy)"
      ],
      "metadata": {
        "colab": {
          "base_uri": "https://localhost:8080/"
        },
        "id": "1jQF-xOMP0wA",
        "outputId": "1365933b-36f3-4796-a89e-2bf2d06a1b1b"
      },
      "execution_count": 231,
      "outputs": [
        {
          "output_type": "stream",
          "name": "stdout",
          "text": [
            "Accuracy on training data =  0.9375\n"
          ]
        }
      ]
    },
    {
      "cell_type": "code",
      "source": [
        "# accuracy on test data\n",
        "X_test_prediction = LR_model.predict(X_test)\n",
        "LR_test_data_accuracy = accuracy_score(Y_test, X_test_prediction)"
      ],
      "metadata": {
        "id": "B4HKHAfKP4x3"
      },
      "execution_count": 232,
      "outputs": []
    },
    {
      "cell_type": "code",
      "source": [
        "print('Accuracy on test data = ', LR_test_data_accuracy)"
      ],
      "metadata": {
        "colab": {
          "base_uri": "https://localhost:8080/"
        },
        "id": "xO8_vzmhP7hw",
        "outputId": "3cc9a19d-2ceb-44af-f41b-19769f19ec1a"
      },
      "execution_count": 233,
      "outputs": [
        {
          "output_type": "stream",
          "name": "stdout",
          "text": [
            "Accuracy on test data =  0.7619047619047619\n"
          ]
        }
      ]
    },
    {
      "cell_type": "markdown",
      "source": [
        "**Decision Tree**"
      ],
      "metadata": {
        "id": "U8sO8D98f9mn"
      }
    },
    {
      "cell_type": "code",
      "source": [
        "DT_model = DecisionTreeClassifier()\n",
        "DT_model.fit(X_train, Y_train)"
      ],
      "metadata": {
        "colab": {
          "base_uri": "https://localhost:8080/"
        },
        "id": "rVCgf7lLP9LX",
        "outputId": "49131fe4-bac2-4e51-c627-9a421b61546b"
      },
      "execution_count": 234,
      "outputs": [
        {
          "output_type": "execute_result",
          "data": {
            "text/plain": [
              "DecisionTreeClassifier()"
            ]
          },
          "metadata": {},
          "execution_count": 234
        }
      ]
    },
    {
      "cell_type": "code",
      "source": [
        "# accuracy on training data\n",
        "X_train_prediction = DT_model.predict(X_train)\n",
        "DT_training_data_accuracy = accuracy_score(Y_train, X_train_prediction)"
      ],
      "metadata": {
        "id": "PhEOzMROSvXr"
      },
      "execution_count": 235,
      "outputs": []
    },
    {
      "cell_type": "code",
      "source": [
        "print('Accuracy on training data = ', DT_training_data_accuracy)"
      ],
      "metadata": {
        "colab": {
          "base_uri": "https://localhost:8080/"
        },
        "id": "96NsppR6S4jX",
        "outputId": "53a9b3a6-0354-4e16-ba2e-6ccc0394f064"
      },
      "execution_count": 236,
      "outputs": [
        {
          "output_type": "stream",
          "name": "stdout",
          "text": [
            "Accuracy on training data =  0.9875\n"
          ]
        }
      ]
    },
    {
      "cell_type": "code",
      "source": [
        "# accuracy on test data\n",
        "X_test_prediction = DT_model.predict(X_test)\n",
        "DT_test_data_accuracy = accuracy_score(Y_test, X_test_prediction)"
      ],
      "metadata": {
        "id": "xgFeOa3fTSeb"
      },
      "execution_count": 237,
      "outputs": []
    },
    {
      "cell_type": "code",
      "source": [
        "print('Accuracy on test data = ', DT_test_data_accuracy)"
      ],
      "metadata": {
        "colab": {
          "base_uri": "https://localhost:8080/"
        },
        "id": "lTuD0pJJTb9Y",
        "outputId": "529bc3f0-0166-479e-fdab-3b98b924bed6"
      },
      "execution_count": 238,
      "outputs": [
        {
          "output_type": "stream",
          "name": "stdout",
          "text": [
            "Accuracy on test data =  0.8095238095238095\n"
          ]
        }
      ]
    },
    {
      "cell_type": "markdown",
      "source": [
        "**K Nearest Neighbors**"
      ],
      "metadata": {
        "id": "3jcYCyiSgE2x"
      }
    },
    {
      "cell_type": "code",
      "source": [
        "KN_model = KNeighborsClassifier(n_neighbors = 4)\n",
        "KN_model.fit(X_train, Y_train)"
      ],
      "metadata": {
        "colab": {
          "base_uri": "https://localhost:8080/"
        },
        "id": "H-pzUmq9ThHP",
        "outputId": "3ace1665-af03-48d0-a216-d1394b271756"
      },
      "execution_count": 239,
      "outputs": [
        {
          "output_type": "execute_result",
          "data": {
            "text/plain": [
              "KNeighborsClassifier(n_neighbors=4)"
            ]
          },
          "metadata": {},
          "execution_count": 239
        }
      ]
    },
    {
      "cell_type": "code",
      "source": [
        "# accuracy on training data\n",
        "X_train_prediction = KN_model.predict(X_train)\n",
        "KN_training_data_accuracy = accuracy_score(Y_train, X_train_prediction)"
      ],
      "metadata": {
        "id": "UOfMZUnpdEGi"
      },
      "execution_count": 240,
      "outputs": []
    },
    {
      "cell_type": "code",
      "source": [
        "print('Accuracy on training data = ', KN_training_data_accuracy)"
      ],
      "metadata": {
        "colab": {
          "base_uri": "https://localhost:8080/"
        },
        "id": "gr2xZL42dXcN",
        "outputId": "73d3da4a-5f24-4f0f-99dc-236b3b9dd52d"
      },
      "execution_count": 241,
      "outputs": [
        {
          "output_type": "stream",
          "name": "stdout",
          "text": [
            "Accuracy on training data =  0.8375\n"
          ]
        }
      ]
    },
    {
      "cell_type": "code",
      "source": [
        "# accuracy on test data\n",
        "X_test_prediction = KN_model.predict(X_test)\n",
        "KN_test_data_accuracy = accuracy_score(Y_test, X_test_prediction)"
      ],
      "metadata": {
        "id": "MlEHY7xsdcmr"
      },
      "execution_count": 242,
      "outputs": []
    },
    {
      "cell_type": "code",
      "source": [
        "print('Accuracy on test data = ', KN_test_data_accuracy)"
      ],
      "metadata": {
        "colab": {
          "base_uri": "https://localhost:8080/"
        },
        "id": "F5W70RrRdgSB",
        "outputId": "b6315c9d-d1cf-4e79-e6fe-c43b2bc88c09"
      },
      "execution_count": 243,
      "outputs": [
        {
          "output_type": "stream",
          "name": "stdout",
          "text": [
            "Accuracy on test data =  0.5238095238095238\n"
          ]
        }
      ]
    },
    {
      "cell_type": "code",
      "source": [
        "#listing down Algorithms, Training Data Accuracy and Testing Data Accuracy\n",
        "clfs = {\n",
        "    'KN': KN_model,  \n",
        "    'DT': DT_model, \n",
        "    'LR': LR_model, \n",
        "}\n",
        "train_accuracy = [KN_training_data_accuracy, DT_training_data_accuracy, LR_training_data_accuracy]\n",
        "test_accuracy = [KN_test_data_accuracy, DT_test_data_accuracy, LR_test_data_accuracy]"
      ],
      "metadata": {
        "id": "c2rP8xMnhI0i"
      },
      "execution_count": 244,
      "outputs": []
    },
    {
      "cell_type": "code",
      "source": [
        "performance_df = pd.DataFrame({'Algorithm':clfs.keys(),'Training Data':train_accuracy,'Test Data':test_accuracy}).sort_values('Training Data',ascending=False)\n",
        "\n"
      ],
      "metadata": {
        "id": "2xjBKm8v0v0N"
      },
      "execution_count": 245,
      "outputs": []
    },
    {
      "cell_type": "code",
      "source": [
        "performance_df"
      ],
      "metadata": {
        "colab": {
          "base_uri": "https://localhost:8080/",
          "height": 143
        },
        "id": "bv_NKrcC1Mil",
        "outputId": "2f294797-706c-4382-a210-f48a4df15187"
      },
      "execution_count": 246,
      "outputs": [
        {
          "output_type": "execute_result",
          "data": {
            "text/plain": [
              "  Algorithm  Training Data  Test Data\n",
              "1        DT         0.9875   0.809524\n",
              "2        LR         0.9375   0.761905\n",
              "0        KN         0.8375   0.523810"
            ],
            "text/html": [
              "\n",
              "  <div id=\"df-3b7f4786-3649-4c35-8d55-547b5b61ced2\">\n",
              "    <div class=\"colab-df-container\">\n",
              "      <div>\n",
              "<style scoped>\n",
              "    .dataframe tbody tr th:only-of-type {\n",
              "        vertical-align: middle;\n",
              "    }\n",
              "\n",
              "    .dataframe tbody tr th {\n",
              "        vertical-align: top;\n",
              "    }\n",
              "\n",
              "    .dataframe thead th {\n",
              "        text-align: right;\n",
              "    }\n",
              "</style>\n",
              "<table border=\"1\" class=\"dataframe\">\n",
              "  <thead>\n",
              "    <tr style=\"text-align: right;\">\n",
              "      <th></th>\n",
              "      <th>Algorithm</th>\n",
              "      <th>Training Data</th>\n",
              "      <th>Test Data</th>\n",
              "    </tr>\n",
              "  </thead>\n",
              "  <tbody>\n",
              "    <tr>\n",
              "      <th>1</th>\n",
              "      <td>DT</td>\n",
              "      <td>0.9875</td>\n",
              "      <td>0.809524</td>\n",
              "    </tr>\n",
              "    <tr>\n",
              "      <th>2</th>\n",
              "      <td>LR</td>\n",
              "      <td>0.9375</td>\n",
              "      <td>0.761905</td>\n",
              "    </tr>\n",
              "    <tr>\n",
              "      <th>0</th>\n",
              "      <td>KN</td>\n",
              "      <td>0.8375</td>\n",
              "      <td>0.523810</td>\n",
              "    </tr>\n",
              "  </tbody>\n",
              "</table>\n",
              "</div>\n",
              "      <button class=\"colab-df-convert\" onclick=\"convertToInteractive('df-3b7f4786-3649-4c35-8d55-547b5b61ced2')\"\n",
              "              title=\"Convert this dataframe to an interactive table.\"\n",
              "              style=\"display:none;\">\n",
              "        \n",
              "  <svg xmlns=\"http://www.w3.org/2000/svg\" height=\"24px\"viewBox=\"0 0 24 24\"\n",
              "       width=\"24px\">\n",
              "    <path d=\"M0 0h24v24H0V0z\" fill=\"none\"/>\n",
              "    <path d=\"M18.56 5.44l.94 2.06.94-2.06 2.06-.94-2.06-.94-.94-2.06-.94 2.06-2.06.94zm-11 1L8.5 8.5l.94-2.06 2.06-.94-2.06-.94L8.5 2.5l-.94 2.06-2.06.94zm10 10l.94 2.06.94-2.06 2.06-.94-2.06-.94-.94-2.06-.94 2.06-2.06.94z\"/><path d=\"M17.41 7.96l-1.37-1.37c-.4-.4-.92-.59-1.43-.59-.52 0-1.04.2-1.43.59L10.3 9.45l-7.72 7.72c-.78.78-.78 2.05 0 2.83L4 21.41c.39.39.9.59 1.41.59.51 0 1.02-.2 1.41-.59l7.78-7.78 2.81-2.81c.8-.78.8-2.07 0-2.86zM5.41 20L4 18.59l7.72-7.72 1.47 1.35L5.41 20z\"/>\n",
              "  </svg>\n",
              "      </button>\n",
              "      \n",
              "  <style>\n",
              "    .colab-df-container {\n",
              "      display:flex;\n",
              "      flex-wrap:wrap;\n",
              "      gap: 12px;\n",
              "    }\n",
              "\n",
              "    .colab-df-convert {\n",
              "      background-color: #E8F0FE;\n",
              "      border: none;\n",
              "      border-radius: 50%;\n",
              "      cursor: pointer;\n",
              "      display: none;\n",
              "      fill: #1967D2;\n",
              "      height: 32px;\n",
              "      padding: 0 0 0 0;\n",
              "      width: 32px;\n",
              "    }\n",
              "\n",
              "    .colab-df-convert:hover {\n",
              "      background-color: #E2EBFA;\n",
              "      box-shadow: 0px 1px 2px rgba(60, 64, 67, 0.3), 0px 1px 3px 1px rgba(60, 64, 67, 0.15);\n",
              "      fill: #174EA6;\n",
              "    }\n",
              "\n",
              "    [theme=dark] .colab-df-convert {\n",
              "      background-color: #3B4455;\n",
              "      fill: #D2E3FC;\n",
              "    }\n",
              "\n",
              "    [theme=dark] .colab-df-convert:hover {\n",
              "      background-color: #434B5C;\n",
              "      box-shadow: 0px 1px 3px 1px rgba(0, 0, 0, 0.15);\n",
              "      filter: drop-shadow(0px 1px 2px rgba(0, 0, 0, 0.3));\n",
              "      fill: #FFFFFF;\n",
              "    }\n",
              "  </style>\n",
              "\n",
              "      <script>\n",
              "        const buttonEl =\n",
              "          document.querySelector('#df-3b7f4786-3649-4c35-8d55-547b5b61ced2 button.colab-df-convert');\n",
              "        buttonEl.style.display =\n",
              "          google.colab.kernel.accessAllowed ? 'block' : 'none';\n",
              "\n",
              "        async function convertToInteractive(key) {\n",
              "          const element = document.querySelector('#df-3b7f4786-3649-4c35-8d55-547b5b61ced2');\n",
              "          const dataTable =\n",
              "            await google.colab.kernel.invokeFunction('convertToInteractive',\n",
              "                                                     [key], {});\n",
              "          if (!dataTable) return;\n",
              "\n",
              "          const docLinkHtml = 'Like what you see? Visit the ' +\n",
              "            '<a target=\"_blank\" href=https://colab.research.google.com/notebooks/data_table.ipynb>data table notebook</a>'\n",
              "            + ' to learn more about interactive tables.';\n",
              "          element.innerHTML = '';\n",
              "          dataTable['output_type'] = 'display_data';\n",
              "          await google.colab.output.renderOutput(dataTable, element);\n",
              "          const docLink = document.createElement('div');\n",
              "          docLink.innerHTML = docLinkHtml;\n",
              "          element.appendChild(docLink);\n",
              "        }\n",
              "      </script>\n",
              "    </div>\n",
              "  </div>\n",
              "  "
            ]
          },
          "metadata": {},
          "execution_count": 246
        }
      ]
    },
    {
      "cell_type": "code",
      "source": [
        "performance_df1 = pd.melt(performance_df, id_vars = \"Algorithm\")\n",
        "performance_df1"
      ],
      "metadata": {
        "colab": {
          "base_uri": "https://localhost:8080/",
          "height": 237
        },
        "id": "VjpEDgvm4BE8",
        "outputId": "d0e1c4d9-d441-49e9-835e-0c7dd28a32c8"
      },
      "execution_count": 249,
      "outputs": [
        {
          "output_type": "execute_result",
          "data": {
            "text/plain": [
              "  Algorithm       variable     value\n",
              "0        DT  Training Data  0.987500\n",
              "1        LR  Training Data  0.937500\n",
              "2        KN  Training Data  0.837500\n",
              "3        DT      Test Data  0.809524\n",
              "4        LR      Test Data  0.761905\n",
              "5        KN      Test Data  0.523810"
            ],
            "text/html": [
              "\n",
              "  <div id=\"df-954cf7b2-0a2d-43ab-bfab-5256c48fdad2\">\n",
              "    <div class=\"colab-df-container\">\n",
              "      <div>\n",
              "<style scoped>\n",
              "    .dataframe tbody tr th:only-of-type {\n",
              "        vertical-align: middle;\n",
              "    }\n",
              "\n",
              "    .dataframe tbody tr th {\n",
              "        vertical-align: top;\n",
              "    }\n",
              "\n",
              "    .dataframe thead th {\n",
              "        text-align: right;\n",
              "    }\n",
              "</style>\n",
              "<table border=\"1\" class=\"dataframe\">\n",
              "  <thead>\n",
              "    <tr style=\"text-align: right;\">\n",
              "      <th></th>\n",
              "      <th>Algorithm</th>\n",
              "      <th>variable</th>\n",
              "      <th>value</th>\n",
              "    </tr>\n",
              "  </thead>\n",
              "  <tbody>\n",
              "    <tr>\n",
              "      <th>0</th>\n",
              "      <td>DT</td>\n",
              "      <td>Training Data</td>\n",
              "      <td>0.987500</td>\n",
              "    </tr>\n",
              "    <tr>\n",
              "      <th>1</th>\n",
              "      <td>LR</td>\n",
              "      <td>Training Data</td>\n",
              "      <td>0.937500</td>\n",
              "    </tr>\n",
              "    <tr>\n",
              "      <th>2</th>\n",
              "      <td>KN</td>\n",
              "      <td>Training Data</td>\n",
              "      <td>0.837500</td>\n",
              "    </tr>\n",
              "    <tr>\n",
              "      <th>3</th>\n",
              "      <td>DT</td>\n",
              "      <td>Test Data</td>\n",
              "      <td>0.809524</td>\n",
              "    </tr>\n",
              "    <tr>\n",
              "      <th>4</th>\n",
              "      <td>LR</td>\n",
              "      <td>Test Data</td>\n",
              "      <td>0.761905</td>\n",
              "    </tr>\n",
              "    <tr>\n",
              "      <th>5</th>\n",
              "      <td>KN</td>\n",
              "      <td>Test Data</td>\n",
              "      <td>0.523810</td>\n",
              "    </tr>\n",
              "  </tbody>\n",
              "</table>\n",
              "</div>\n",
              "      <button class=\"colab-df-convert\" onclick=\"convertToInteractive('df-954cf7b2-0a2d-43ab-bfab-5256c48fdad2')\"\n",
              "              title=\"Convert this dataframe to an interactive table.\"\n",
              "              style=\"display:none;\">\n",
              "        \n",
              "  <svg xmlns=\"http://www.w3.org/2000/svg\" height=\"24px\"viewBox=\"0 0 24 24\"\n",
              "       width=\"24px\">\n",
              "    <path d=\"M0 0h24v24H0V0z\" fill=\"none\"/>\n",
              "    <path d=\"M18.56 5.44l.94 2.06.94-2.06 2.06-.94-2.06-.94-.94-2.06-.94 2.06-2.06.94zm-11 1L8.5 8.5l.94-2.06 2.06-.94-2.06-.94L8.5 2.5l-.94 2.06-2.06.94zm10 10l.94 2.06.94-2.06 2.06-.94-2.06-.94-.94-2.06-.94 2.06-2.06.94z\"/><path d=\"M17.41 7.96l-1.37-1.37c-.4-.4-.92-.59-1.43-.59-.52 0-1.04.2-1.43.59L10.3 9.45l-7.72 7.72c-.78.78-.78 2.05 0 2.83L4 21.41c.39.39.9.59 1.41.59.51 0 1.02-.2 1.41-.59l7.78-7.78 2.81-2.81c.8-.78.8-2.07 0-2.86zM5.41 20L4 18.59l7.72-7.72 1.47 1.35L5.41 20z\"/>\n",
              "  </svg>\n",
              "      </button>\n",
              "      \n",
              "  <style>\n",
              "    .colab-df-container {\n",
              "      display:flex;\n",
              "      flex-wrap:wrap;\n",
              "      gap: 12px;\n",
              "    }\n",
              "\n",
              "    .colab-df-convert {\n",
              "      background-color: #E8F0FE;\n",
              "      border: none;\n",
              "      border-radius: 50%;\n",
              "      cursor: pointer;\n",
              "      display: none;\n",
              "      fill: #1967D2;\n",
              "      height: 32px;\n",
              "      padding: 0 0 0 0;\n",
              "      width: 32px;\n",
              "    }\n",
              "\n",
              "    .colab-df-convert:hover {\n",
              "      background-color: #E2EBFA;\n",
              "      box-shadow: 0px 1px 2px rgba(60, 64, 67, 0.3), 0px 1px 3px 1px rgba(60, 64, 67, 0.15);\n",
              "      fill: #174EA6;\n",
              "    }\n",
              "\n",
              "    [theme=dark] .colab-df-convert {\n",
              "      background-color: #3B4455;\n",
              "      fill: #D2E3FC;\n",
              "    }\n",
              "\n",
              "    [theme=dark] .colab-df-convert:hover {\n",
              "      background-color: #434B5C;\n",
              "      box-shadow: 0px 1px 3px 1px rgba(0, 0, 0, 0.15);\n",
              "      filter: drop-shadow(0px 1px 2px rgba(0, 0, 0, 0.3));\n",
              "      fill: #FFFFFF;\n",
              "    }\n",
              "  </style>\n",
              "\n",
              "      <script>\n",
              "        const buttonEl =\n",
              "          document.querySelector('#df-954cf7b2-0a2d-43ab-bfab-5256c48fdad2 button.colab-df-convert');\n",
              "        buttonEl.style.display =\n",
              "          google.colab.kernel.accessAllowed ? 'block' : 'none';\n",
              "\n",
              "        async function convertToInteractive(key) {\n",
              "          const element = document.querySelector('#df-954cf7b2-0a2d-43ab-bfab-5256c48fdad2');\n",
              "          const dataTable =\n",
              "            await google.colab.kernel.invokeFunction('convertToInteractive',\n",
              "                                                     [key], {});\n",
              "          if (!dataTable) return;\n",
              "\n",
              "          const docLinkHtml = 'Like what you see? Visit the ' +\n",
              "            '<a target=\"_blank\" href=https://colab.research.google.com/notebooks/data_table.ipynb>data table notebook</a>'\n",
              "            + ' to learn more about interactive tables.';\n",
              "          element.innerHTML = '';\n",
              "          dataTable['output_type'] = 'display_data';\n",
              "          await google.colab.output.renderOutput(dataTable, element);\n",
              "          const docLink = document.createElement('div');\n",
              "          docLink.innerHTML = docLinkHtml;\n",
              "          element.appendChild(docLink);\n",
              "        }\n",
              "      </script>\n",
              "    </div>\n",
              "  </div>\n",
              "  "
            ]
          },
          "metadata": {},
          "execution_count": 249
        }
      ]
    },
    {
      "cell_type": "code",
      "source": [
        "#Visualization comparing Accuracy of training and testing data of 3 different algorithms\n",
        "sns.catplot(x = 'Algorithm', y='value', \n",
        "               hue = 'variable',data=performance_df1, kind='bar',height=5)\n",
        "plt.ylim(0.5,1.0)\n",
        "plt.xticks(rotation='vertical')\n",
        "plt.show()"
      ],
      "metadata": {
        "colab": {
          "base_uri": "https://localhost:8080/",
          "height": 377
        },
        "id": "62LaeZO03Stp",
        "outputId": "410c5c62-040c-43d2-adfa-c090dfd6fb7f"
      },
      "execution_count": 251,
      "outputs": [
        {
          "output_type": "display_data",
          "data": {
            "text/plain": [
              "<Figure size 462.625x360 with 1 Axes>"
            ],
            "image/png": "[encoded data removed]"
          },
          "metadata": {
            "needs_background": "light"
          }
        }
      ]
    },
    {
      "cell_type": "markdown",
      "source": [
        "**Predictive Model**"
      ],
      "metadata": {
        "id": "XoxRC26mgiBK"
      }
    },
    {
      "cell_type": "code",
      "source": [
        "X_new = X_test[19]\n",
        "prediction = DT_model.predict(X_new)\n",
        "print(prediction)"
      ],
      "metadata": {
        "colab": {
          "base_uri": "https://localhost:8080/"
        },
        "id": "Dj6wePbYGoL0",
        "outputId": "6c5a93db-7f04-499c-a294-56a9e4bf3dc8"
      },
      "execution_count": 252,
      "outputs": [
        {
          "output_type": "stream",
          "name": "stdout",
          "text": [
            "['Cons & Endo']\n"
          ]
        }
      ]
    },
    {
      "cell_type": "code",
      "source": [
        "X_new = X_test[19]\n",
        "prediction = KN_model.predict(X_new)\n",
        "print(prediction)"
      ],
      "metadata": {
        "id": "NKfgTVtmHpWn",
        "colab": {
          "base_uri": "https://localhost:8080/"
        },
        "outputId": "bac2d873-f6a2-43fb-ad32-9ce418047159"
      },
      "execution_count": 253,
      "outputs": [
        {
          "output_type": "stream",
          "name": "stdout",
          "text": [
            "['Cons & Endo']\n"
          ]
        }
      ]
    },
    {
      "cell_type": "code",
      "source": [
        "X_new = X_test[19]\n",
        "prediction = LR_model.predict(X_new)\n",
        "print(prediction)"
      ],
      "metadata": {
        "colab": {
          "base_uri": "https://localhost:8080/"
        },
        "id": "kJSNhm1sbLNe",
        "outputId": "274e1820-57d1-480a-a23f-82d846a42e7c"
      },
      "execution_count": 254,
      "outputs": [
        {
          "output_type": "stream",
          "name": "stdout",
          "text": [
            "['Cons & Endo']\n"
          ]
        }
      ]
    },
    {
      "cell_type": "code",
      "source": [
        "print(Y_test[19])"
      ],
      "metadata": {
        "colab": {
          "base_uri": "https://localhost:8080/"
        },
        "id": "ujC9QYOmHgZb",
        "outputId": "519b197a-e02b-4e5f-e8fb-03fda77159d1"
      },
      "execution_count": 255,
      "outputs": [
        {
          "output_type": "stream",
          "name": "stdout",
          "text": [
            "Cons & Endo\n"
          ]
        }
      ]
    }
  ]
}