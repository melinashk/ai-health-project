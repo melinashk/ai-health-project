{
  "nbformat": 4,
  "nbformat_minor": 0,
  "metadata": {
    "colab": {
      "provenance": [],
      "authorship_tag": "ABX9TyPz7l078gDwiHQt6VGbl7jT",
      "include_colab_link": true
    },
    "kernelspec": {
      "name": "python3",
      "display_name": "Python 3"
    },
    "language_info": {
      "name": "python"
    }
  },
  "cells": [
    {
      "cell_type": "markdown",
      "metadata": {
        "id": "view-in-github",
        "colab_type": "text"
      },
      "source": [
        "<a href=\"https://colab.research.google.com/github/melinashk/ai-health-project/blob/main/Artificial_Intelligence_Project.ipynb\" target=\"_parent\"><img src=\"https://colab.research.google.com/assets/colab-badge.svg\" alt=\"Open In Colab\"/></a>"
      ]
    },
    {
      "cell_type": "code",
      "execution_count": 1,
      "metadata": {
        "colab": {
          "base_uri": "https://localhost:8080/"
        },
        "id": "a5V2fBINN7F_",
        "outputId": "b7b1e19a-7b2c-4529-dadc-20d30b591c67"
      },
      "outputs": [
        {
          "output_type": "stream",
          "name": "stdout",
          "text": [
            "Looking in indexes: https://pypi.org/simple, https://us-python.pkg.dev/colab-wheels/public/simple/\n",
            "Requirement already satisfied: numpy in /usr/local/lib/python3.8/dist-packages (1.21.6)\n"
          ]
        }
      ],
      "source": [
        "!pip install numpy"
      ]
    },
    {
      "cell_type": "code",
      "source": [
        "!pip install pandas"
      ],
      "metadata": {
        "colab": {
          "base_uri": "https://localhost:8080/"
        },
        "id": "d6kVr_jFOts_",
        "outputId": "ed9ec516-5a04-40c9-ed3e-de3eb42e0ff7"
      },
      "execution_count": 2,
      "outputs": [
        {
          "output_type": "stream",
          "name": "stdout",
          "text": [
            "Looking in indexes: https://pypi.org/simple, https://us-python.pkg.dev/colab-wheels/public/simple/\n",
            "Requirement already satisfied: pandas in /usr/local/lib/python3.8/dist-packages (1.3.5)\n",
            "Requirement already satisfied: pytz>=2017.3 in /usr/local/lib/python3.8/dist-packages (from pandas) (2022.6)\n",
            "Requirement already satisfied: python-dateutil>=2.7.3 in /usr/local/lib/python3.8/dist-packages (from pandas) (2.8.2)\n",
            "Requirement already satisfied: numpy>=1.17.3 in /usr/local/lib/python3.8/dist-packages (from pandas) (1.21.6)\n",
            "Requirement already satisfied: six>=1.5 in /usr/local/lib/python3.8/dist-packages (from python-dateutil>=2.7.3->pandas) (1.15.0)\n"
          ]
        }
      ]
    },
    {
      "cell_type": "code",
      "source": [
        "!pip install nlp"
      ],
      "metadata": {
        "colab": {
          "base_uri": "https://localhost:8080/"
        },
        "id": "SbNShgxBO161",
        "outputId": "a706be51-00a8-4727-da14-c7d2e8b004d6"
      },
      "execution_count": 4,
      "outputs": [
        {
          "output_type": "stream",
          "name": "stdout",
          "text": [
            "Looking in indexes: https://pypi.org/simple, https://us-python.pkg.dev/colab-wheels/public/simple/\n",
            "Collecting nlp\n",
            "  Downloading nlp-0.4.0-py3-none-any.whl (1.7 MB)\n",
            "\u001b[K     |████████████████████████████████| 1.7 MB 18.2 MB/s \n",
            "\u001b[?25hCollecting xxhash\n",
            "  Downloading xxhash-3.1.0-cp38-cp38-manylinux_2_17_x86_64.manylinux2014_x86_64.whl (212 kB)\n",
            "\u001b[K     |████████████████████████████████| 212 kB 60.4 MB/s \n",
            "\u001b[?25hRequirement already satisfied: pandas in /usr/local/lib/python3.8/dist-packages (from nlp) (1.3.5)\n",
            "Requirement already satisfied: dill in /usr/local/lib/python3.8/dist-packages (from nlp) (0.3.6)\n",
            "Requirement already satisfied: filelock in /usr/local/lib/python3.8/dist-packages (from nlp) (3.8.0)\n",
            "Requirement already satisfied: requests>=2.19.0 in /usr/local/lib/python3.8/dist-packages (from nlp) (2.23.0)\n",
            "Requirement already satisfied: tqdm>=4.27 in /usr/local/lib/python3.8/dist-packages (from nlp) (4.64.1)\n",
            "Requirement already satisfied: pyarrow>=0.16.0 in /usr/local/lib/python3.8/dist-packages (from nlp) (9.0.0)\n",
            "Requirement already satisfied: numpy in /usr/local/lib/python3.8/dist-packages (from nlp) (1.21.6)\n",
            "Requirement already satisfied: urllib3!=1.25.0,!=1.25.1,<1.26,>=1.21.1 in /usr/local/lib/python3.8/dist-packages (from requests>=2.19.0->nlp) (1.24.3)\n",
            "Requirement already satisfied: certifi>=2017.4.17 in /usr/local/lib/python3.8/dist-packages (from requests>=2.19.0->nlp) (2022.9.24)\n",
            "Requirement already satisfied: chardet<4,>=3.0.2 in /usr/local/lib/python3.8/dist-packages (from requests>=2.19.0->nlp) (3.0.4)\n",
            "Requirement already satisfied: idna<3,>=2.5 in /usr/local/lib/python3.8/dist-packages (from requests>=2.19.0->nlp) (2.10)\n",
            "Requirement already satisfied: pytz>=2017.3 in /usr/local/lib/python3.8/dist-packages (from pandas->nlp) (2022.6)\n",
            "Requirement already satisfied: python-dateutil>=2.7.3 in /usr/local/lib/python3.8/dist-packages (from pandas->nlp) (2.8.2)\n",
            "Requirement already satisfied: six>=1.5 in /usr/local/lib/python3.8/dist-packages (from python-dateutil>=2.7.3->pandas->nlp) (1.15.0)\n",
            "Installing collected packages: xxhash, nlp\n",
            "Successfully installed nlp-0.4.0 xxhash-3.1.0\n"
          ]
        }
      ]
    },
    {
      "cell_type": "code",
      "source": [
        "!pip install sklearn"
      ],
      "metadata": {
        "colab": {
          "base_uri": "https://localhost:8080/"
        },
        "id": "yTV0KFwTO9TU",
        "outputId": "2f947f74-f137-4fb6-bb0b-595b375f607c"
      },
      "execution_count": 5,
      "outputs": [
        {
          "output_type": "stream",
          "name": "stdout",
          "text": [
            "Looking in indexes: https://pypi.org/simple, https://us-python.pkg.dev/colab-wheels/public/simple/\n",
            "Collecting sklearn\n",
            "  Downloading sklearn-0.0.post1.tar.gz (3.6 kB)\n",
            "Building wheels for collected packages: sklearn\n",
            "  Building wheel for sklearn (setup.py) ... \u001b[?25l\u001b[?25hdone\n",
            "  Created wheel for sklearn: filename=sklearn-0.0.post1-py3-none-any.whl size=2344 sha256=edcae1f11d8d7c1ed674473eabcf77b6058f1db245b5db1a344d2992ea50635e\n",
            "  Stored in directory: /root/.cache/pip/wheels/14/25/f7/1cc0956978ae479e75140219088deb7a36f60459df242b1a72\n",
            "Successfully built sklearn\n",
            "Installing collected packages: sklearn\n",
            "Successfully installed sklearn-0.0.post1\n"
          ]
        }
      ]
    },
    {
      "cell_type": "code",
      "source": [
        "#importing different python libraries\n",
        "import numpy as np\n",
        "import pandas as pd\n",
        "import re\n",
        "from nltk.corpus import stopwords\n",
        "from nltk.stem.porter import PorterStemmer\n",
        "from nltk.tokenize import word_tokenize\n",
        "from sklearn.feature_extraction.text import TfidfVectorizer\n",
        "from sklearn.model_selection import train_test_split\n",
        "from sklearn.linear_model import LogisticRegression\n",
        "from sklearn.metrics import accuracy_score"
      ],
      "metadata": {
        "id": "5K49TAS7PCRj"
      },
      "execution_count": 7,
      "outputs": []
    },
    {
      "cell_type": "code",
      "source": [
        "#stopwords identification\n",
        "import nltk\n",
        "nltk.download('stopwords')\n",
        "print(stopwords.words('english'))"
      ],
      "metadata": {
        "colab": {
          "base_uri": "https://localhost:8080/"
        },
        "id": "-Ynj_utlPF1y",
        "outputId": "b8c865e6-6bbc-46b4-8a9d-d8bb793dd844"
      },
      "execution_count": 10,
      "outputs": [
        {
          "output_type": "stream",
          "name": "stdout",
          "text": [
            "['i', 'me', 'my', 'myself', 'we', 'our', 'ours', 'ourselves', 'you', \"you're\", \"you've\", \"you'll\", \"you'd\", 'your', 'yours', 'yourself', 'yourselves', 'he', 'him', 'his', 'himself', 'she', \"she's\", 'her', 'hers', 'herself', 'it', \"it's\", 'its', 'itself', 'they', 'them', 'their', 'theirs', 'themselves', 'what', 'which', 'who', 'whom', 'this', 'that', \"that'll\", 'these', 'those', 'am', 'is', 'are', 'was', 'were', 'be', 'been', 'being', 'have', 'has', 'had', 'having', 'do', 'does', 'did', 'doing', 'a', 'an', 'the', 'and', 'but', 'if', 'or', 'because', 'as', 'until', 'while', 'of', 'at', 'by', 'for', 'with', 'about', 'against', 'between', 'into', 'through', 'during', 'before', 'after', 'above', 'below', 'to', 'from', 'up', 'down', 'in', 'out', 'on', 'off', 'over', 'under', 'again', 'further', 'then', 'once', 'here', 'there', 'when', 'where', 'why', 'how', 'all', 'any', 'both', 'each', 'few', 'more', 'most', 'other', 'some', 'such', 'no', 'nor', 'not', 'only', 'own', 'same', 'so', 'than', 'too', 'very', 's', 't', 'can', 'will', 'just', 'don', \"don't\", 'should', \"should've\", 'now', 'd', 'll', 'm', 'o', 're', 've', 'y', 'ain', 'aren', \"aren't\", 'couldn', \"couldn't\", 'didn', \"didn't\", 'doesn', \"doesn't\", 'hadn', \"hadn't\", 'hasn', \"hasn't\", 'haven', \"haven't\", 'isn', \"isn't\", 'ma', 'mightn', \"mightn't\", 'mustn', \"mustn't\", 'needn', \"needn't\", 'shan', \"shan't\", 'shouldn', \"shouldn't\", 'wasn', \"wasn't\", 'weren', \"weren't\", 'won', \"won't\", 'wouldn', \"wouldn't\"]\n"
          ]
        },
        {
          "output_type": "stream",
          "name": "stderr",
          "text": [
            "[nltk_data] Downloading package stopwords to /root/nltk_data...\n",
            "[nltk_data]   Package stopwords is already up-to-date!\n"
          ]
        }
      ]
    },
    {
      "cell_type": "code",
      "source": [
        "#loading datasets\n",
        "df = pd.read_csv('/Data.csv')"
      ],
      "metadata": {
        "id": "SfD8RklaQQCK"
      },
      "execution_count": 11,
      "outputs": []
    },
    {
      "cell_type": "code",
      "source": [
        "df.head()"
      ],
      "metadata": {
        "colab": {
          "base_uri": "https://localhost:8080/",
          "height": 424
        },
        "id": "2kNSUW1URIqw",
        "outputId": "b19fd4d4-eef0-480c-fac5-5961535ed98b"
      },
      "execution_count": 12,
      "outputs": [
        {
          "output_type": "execute_result",
          "data": {
            "text/plain": [
              "   Age Sex                                      Description  \\\n",
              "0   11   M                             fall injury on table   \n",
              "1   21   M                            pain left back region   \n",
              "2   26   M                                deposits on teeth   \n",
              "3   10   M  partially erupted teeth present in upper region   \n",
              "4   80   F          missing teeth in upper and lower region   \n",
              "\n",
              "                    Dental History                    Medical History  \\\n",
              "0                             none                               none   \n",
              "1                             none                               none   \n",
              "2                             none                               none   \n",
              "3                             none                               none   \n",
              "4  complete denture since 5 months  cardiac disorder and hypertension   \n",
              "\n",
              "                                    Past Medication      Department  Labels  \n",
              "0                                         zytee gel     Pedodontics       3  \n",
              "1                                              none             OMR       1  \n",
              "2                                              none             OMR       1  \n",
              "3                                              none     Pedodontics       3  \n",
              "4  medication for hypertension and cardiac disorder  Prosthodontics       4  "
            ],
            "text/html": [
              "\n",
              "  <div id=\"df-5ee39789-4a9e-4e1c-b280-7715d99a5232\">\n",
              "    <div class=\"colab-df-container\">\n",
              "      <div>\n",
              "<style scoped>\n",
              "    .dataframe tbody tr th:only-of-type {\n",
              "        vertical-align: middle;\n",
              "    }\n",
              "\n",
              "    .dataframe tbody tr th {\n",
              "        vertical-align: top;\n",
              "    }\n",
              "\n",
              "    .dataframe thead th {\n",
              "        text-align: right;\n",
              "    }\n",
              "</style>\n",
              "<table border=\"1\" class=\"dataframe\">\n",
              "  <thead>\n",
              "    <tr style=\"text-align: right;\">\n",
              "      <th></th>\n",
              "      <th>Age</th>\n",
              "      <th>Sex</th>\n",
              "      <th>Description</th>\n",
              "      <th>Dental History</th>\n",
              "      <th>Medical History</th>\n",
              "      <th>Past Medication</th>\n",
              "      <th>Department</th>\n",
              "      <th>Labels</th>\n",
              "    </tr>\n",
              "  </thead>\n",
              "  <tbody>\n",
              "    <tr>\n",
              "      <th>0</th>\n",
              "      <td>11</td>\n",
              "      <td>M</td>\n",
              "      <td>fall injury on table</td>\n",
              "      <td>none</td>\n",
              "      <td>none</td>\n",
              "      <td>zytee gel</td>\n",
              "      <td>Pedodontics</td>\n",
              "      <td>3</td>\n",
              "    </tr>\n",
              "    <tr>\n",
              "      <th>1</th>\n",
              "      <td>21</td>\n",
              "      <td>M</td>\n",
              "      <td>pain left back region</td>\n",
              "      <td>none</td>\n",
              "      <td>none</td>\n",
              "      <td>none</td>\n",
              "      <td>OMR</td>\n",
              "      <td>1</td>\n",
              "    </tr>\n",
              "    <tr>\n",
              "      <th>2</th>\n",
              "      <td>26</td>\n",
              "      <td>M</td>\n",
              "      <td>deposits on teeth</td>\n",
              "      <td>none</td>\n",
              "      <td>none</td>\n",
              "      <td>none</td>\n",
              "      <td>OMR</td>\n",
              "      <td>1</td>\n",
              "    </tr>\n",
              "    <tr>\n",
              "      <th>3</th>\n",
              "      <td>10</td>\n",
              "      <td>M</td>\n",
              "      <td>partially erupted teeth present in upper region</td>\n",
              "      <td>none</td>\n",
              "      <td>none</td>\n",
              "      <td>none</td>\n",
              "      <td>Pedodontics</td>\n",
              "      <td>3</td>\n",
              "    </tr>\n",
              "    <tr>\n",
              "      <th>4</th>\n",
              "      <td>80</td>\n",
              "      <td>F</td>\n",
              "      <td>missing teeth in upper and lower region</td>\n",
              "      <td>complete denture since 5 months</td>\n",
              "      <td>cardiac disorder and hypertension</td>\n",
              "      <td>medication for hypertension and cardiac disorder</td>\n",
              "      <td>Prosthodontics</td>\n",
              "      <td>4</td>\n",
              "    </tr>\n",
              "  </tbody>\n",
              "</table>\n",
              "</div>\n",
              "      <button class=\"colab-df-convert\" onclick=\"convertToInteractive('df-5ee39789-4a9e-4e1c-b280-7715d99a5232')\"\n",
              "              title=\"Convert this dataframe to an interactive table.\"\n",
              "              style=\"display:none;\">\n",
              "        \n",
              "  <svg xmlns=\"http://www.w3.org/2000/svg\" height=\"24px\"viewBox=\"0 0 24 24\"\n",
              "       width=\"24px\">\n",
              "    <path d=\"M0 0h24v24H0V0z\" fill=\"none\"/>\n",
              "    <path d=\"M18.56 5.44l.94 2.06.94-2.06 2.06-.94-2.06-.94-.94-2.06-.94 2.06-2.06.94zm-11 1L8.5 8.5l.94-2.06 2.06-.94-2.06-.94L8.5 2.5l-.94 2.06-2.06.94zm10 10l.94 2.06.94-2.06 2.06-.94-2.06-.94-.94-2.06-.94 2.06-2.06.94z\"/><path d=\"M17.41 7.96l-1.37-1.37c-.4-.4-.92-.59-1.43-.59-.52 0-1.04.2-1.43.59L10.3 9.45l-7.72 7.72c-.78.78-.78 2.05 0 2.83L4 21.41c.39.39.9.59 1.41.59.51 0 1.02-.2 1.41-.59l7.78-7.78 2.81-2.81c.8-.78.8-2.07 0-2.86zM5.41 20L4 18.59l7.72-7.72 1.47 1.35L5.41 20z\"/>\n",
              "  </svg>\n",
              "      </button>\n",
              "      \n",
              "  <style>\n",
              "    .colab-df-container {\n",
              "      display:flex;\n",
              "      flex-wrap:wrap;\n",
              "      gap: 12px;\n",
              "    }\n",
              "\n",
              "    .colab-df-convert {\n",
              "      background-color: #E8F0FE;\n",
              "      border: none;\n",
              "      border-radius: 50%;\n",
              "      cursor: pointer;\n",
              "      display: none;\n",
              "      fill: #1967D2;\n",
              "      height: 32px;\n",
              "      padding: 0 0 0 0;\n",
              "      width: 32px;\n",
              "    }\n",
              "\n",
              "    .colab-df-convert:hover {\n",
              "      background-color: #E2EBFA;\n",
              "      box-shadow: 0px 1px 2px rgba(60, 64, 67, 0.3), 0px 1px 3px 1px rgba(60, 64, 67, 0.15);\n",
              "      fill: #174EA6;\n",
              "    }\n",
              "\n",
              "    [theme=dark] .colab-df-convert {\n",
              "      background-color: #3B4455;\n",
              "      fill: #D2E3FC;\n",
              "    }\n",
              "\n",
              "    [theme=dark] .colab-df-convert:hover {\n",
              "      background-color: #434B5C;\n",
              "      box-shadow: 0px 1px 3px 1px rgba(0, 0, 0, 0.15);\n",
              "      filter: drop-shadow(0px 1px 2px rgba(0, 0, 0, 0.3));\n",
              "      fill: #FFFFFF;\n",
              "    }\n",
              "  </style>\n",
              "\n",
              "      <script>\n",
              "        const buttonEl =\n",
              "          document.querySelector('#df-5ee39789-4a9e-4e1c-b280-7715d99a5232 button.colab-df-convert');\n",
              "        buttonEl.style.display =\n",
              "          google.colab.kernel.accessAllowed ? 'block' : 'none';\n",
              "\n",
              "        async function convertToInteractive(key) {\n",
              "          const element = document.querySelector('#df-5ee39789-4a9e-4e1c-b280-7715d99a5232');\n",
              "          const dataTable =\n",
              "            await google.colab.kernel.invokeFunction('convertToInteractive',\n",
              "                                                     [key], {});\n",
              "          if (!dataTable) return;\n",
              "\n",
              "          const docLinkHtml = 'Like what you see? Visit the ' +\n",
              "            '<a target=\"_blank\" href=https://colab.research.google.com/notebooks/data_table.ipynb>data table notebook</a>'\n",
              "            + ' to learn more about interactive tables.';\n",
              "          element.innerHTML = '';\n",
              "          dataTable['output_type'] = 'display_data';\n",
              "          await google.colab.output.renderOutput(dataTable, element);\n",
              "          const docLink = document.createElement('div');\n",
              "          docLink.innerHTML = docLinkHtml;\n",
              "          element.appendChild(docLink);\n",
              "        }\n",
              "      </script>\n",
              "    </div>\n",
              "  </div>\n",
              "  "
            ]
          },
          "metadata": {},
          "execution_count": 12
        }
      ]
    },
    {
      "cell_type": "code",
      "source": [
        "df.shape"
      ],
      "metadata": {
        "colab": {
          "base_uri": "https://localhost:8080/"
        },
        "id": "Z8or2hTMRKnm",
        "outputId": "bf6dbbba-43c3-4977-9a2f-30d0ed353850"
      },
      "execution_count": 13,
      "outputs": [
        {
          "output_type": "execute_result",
          "data": {
            "text/plain": [
              "(101, 8)"
            ]
          },
          "metadata": {},
          "execution_count": 13
        }
      ]
    },
    {
      "cell_type": "code",
      "source": [
        "#counting number of missing values\n",
        "df.isnull().sum()"
      ],
      "metadata": {
        "colab": {
          "base_uri": "https://localhost:8080/"
        },
        "id": "ctl9ygUFRQI3",
        "outputId": "7782e2f6-7187-4df7-bbfd-78639c19b22e"
      },
      "execution_count": 14,
      "outputs": [
        {
          "output_type": "execute_result",
          "data": {
            "text/plain": [
              "Age                0\n",
              "Sex                0\n",
              "Description        0\n",
              "Dental History     0\n",
              "Medical History    0\n",
              "Past Medication    0\n",
              "Department         0\n",
              "Labels             0\n",
              "dtype: int64"
            ]
          },
          "metadata": {},
          "execution_count": 14
        }
      ]
    },
    {
      "cell_type": "code",
      "source": [
        "df.describe()"
      ],
      "metadata": {
        "colab": {
          "base_uri": "https://localhost:8080/",
          "height": 300
        },
        "id": "WZKdLc_nRed6",
        "outputId": "ff93fb0c-491e-4cb4-f330-baabc49185f1"
      },
      "execution_count": 15,
      "outputs": [
        {
          "output_type": "execute_result",
          "data": {
            "text/plain": [
              "              Age      Labels\n",
              "count  101.000000  101.000000\n",
              "mean    32.326733    2.336634\n",
              "std     22.772839    1.589196\n",
              "min      4.000000    0.000000\n",
              "25%     11.000000    1.000000\n",
              "50%     26.000000    3.000000\n",
              "75%     51.000000    3.000000\n",
              "max     80.000000    5.000000"
            ],
            "text/html": [
              "\n",
              "  <div id=\"df-ffdae5b5-a098-490c-9944-26c1ce521267\">\n",
              "    <div class=\"colab-df-container\">\n",
              "      <div>\n",
              "<style scoped>\n",
              "    .dataframe tbody tr th:only-of-type {\n",
              "        vertical-align: middle;\n",
              "    }\n",
              "\n",
              "    .dataframe tbody tr th {\n",
              "        vertical-align: top;\n",
              "    }\n",
              "\n",
              "    .dataframe thead th {\n",
              "        text-align: right;\n",
              "    }\n",
              "</style>\n",
              "<table border=\"1\" class=\"dataframe\">\n",
              "  <thead>\n",
              "    <tr style=\"text-align: right;\">\n",
              "      <th></th>\n",
              "      <th>Age</th>\n",
              "      <th>Labels</th>\n",
              "    </tr>\n",
              "  </thead>\n",
              "  <tbody>\n",
              "    <tr>\n",
              "      <th>count</th>\n",
              "      <td>101.000000</td>\n",
              "      <td>101.000000</td>\n",
              "    </tr>\n",
              "    <tr>\n",
              "      <th>mean</th>\n",
              "      <td>32.326733</td>\n",
              "      <td>2.336634</td>\n",
              "    </tr>\n",
              "    <tr>\n",
              "      <th>std</th>\n",
              "      <td>22.772839</td>\n",
              "      <td>1.589196</td>\n",
              "    </tr>\n",
              "    <tr>\n",
              "      <th>min</th>\n",
              "      <td>4.000000</td>\n",
              "      <td>0.000000</td>\n",
              "    </tr>\n",
              "    <tr>\n",
              "      <th>25%</th>\n",
              "      <td>11.000000</td>\n",
              "      <td>1.000000</td>\n",
              "    </tr>\n",
              "    <tr>\n",
              "      <th>50%</th>\n",
              "      <td>26.000000</td>\n",
              "      <td>3.000000</td>\n",
              "    </tr>\n",
              "    <tr>\n",
              "      <th>75%</th>\n",
              "      <td>51.000000</td>\n",
              "      <td>3.000000</td>\n",
              "    </tr>\n",
              "    <tr>\n",
              "      <th>max</th>\n",
              "      <td>80.000000</td>\n",
              "      <td>5.000000</td>\n",
              "    </tr>\n",
              "  </tbody>\n",
              "</table>\n",
              "</div>\n",
              "      <button class=\"colab-df-convert\" onclick=\"convertToInteractive('df-ffdae5b5-a098-490c-9944-26c1ce521267')\"\n",
              "              title=\"Convert this dataframe to an interactive table.\"\n",
              "              style=\"display:none;\">\n",
              "        \n",
              "  <svg xmlns=\"http://www.w3.org/2000/svg\" height=\"24px\"viewBox=\"0 0 24 24\"\n",
              "       width=\"24px\">\n",
              "    <path d=\"M0 0h24v24H0V0z\" fill=\"none\"/>\n",
              "    <path d=\"M18.56 5.44l.94 2.06.94-2.06 2.06-.94-2.06-.94-.94-2.06-.94 2.06-2.06.94zm-11 1L8.5 8.5l.94-2.06 2.06-.94-2.06-.94L8.5 2.5l-.94 2.06-2.06.94zm10 10l.94 2.06.94-2.06 2.06-.94-2.06-.94-.94-2.06-.94 2.06-2.06.94z\"/><path d=\"M17.41 7.96l-1.37-1.37c-.4-.4-.92-.59-1.43-.59-.52 0-1.04.2-1.43.59L10.3 9.45l-7.72 7.72c-.78.78-.78 2.05 0 2.83L4 21.41c.39.39.9.59 1.41.59.51 0 1.02-.2 1.41-.59l7.78-7.78 2.81-2.81c.8-.78.8-2.07 0-2.86zM5.41 20L4 18.59l7.72-7.72 1.47 1.35L5.41 20z\"/>\n",
              "  </svg>\n",
              "      </button>\n",
              "      \n",
              "  <style>\n",
              "    .colab-df-container {\n",
              "      display:flex;\n",
              "      flex-wrap:wrap;\n",
              "      gap: 12px;\n",
              "    }\n",
              "\n",
              "    .colab-df-convert {\n",
              "      background-color: #E8F0FE;\n",
              "      border: none;\n",
              "      border-radius: 50%;\n",
              "      cursor: pointer;\n",
              "      display: none;\n",
              "      fill: #1967D2;\n",
              "      height: 32px;\n",
              "      padding: 0 0 0 0;\n",
              "      width: 32px;\n",
              "    }\n",
              "\n",
              "    .colab-df-convert:hover {\n",
              "      background-color: #E2EBFA;\n",
              "      box-shadow: 0px 1px 2px rgba(60, 64, 67, 0.3), 0px 1px 3px 1px rgba(60, 64, 67, 0.15);\n",
              "      fill: #174EA6;\n",
              "    }\n",
              "\n",
              "    [theme=dark] .colab-df-convert {\n",
              "      background-color: #3B4455;\n",
              "      fill: #D2E3FC;\n",
              "    }\n",
              "\n",
              "    [theme=dark] .colab-df-convert:hover {\n",
              "      background-color: #434B5C;\n",
              "      box-shadow: 0px 1px 3px 1px rgba(0, 0, 0, 0.15);\n",
              "      filter: drop-shadow(0px 1px 2px rgba(0, 0, 0, 0.3));\n",
              "      fill: #FFFFFF;\n",
              "    }\n",
              "  </style>\n",
              "\n",
              "      <script>\n",
              "        const buttonEl =\n",
              "          document.querySelector('#df-ffdae5b5-a098-490c-9944-26c1ce521267 button.colab-df-convert');\n",
              "        buttonEl.style.display =\n",
              "          google.colab.kernel.accessAllowed ? 'block' : 'none';\n",
              "\n",
              "        async function convertToInteractive(key) {\n",
              "          const element = document.querySelector('#df-ffdae5b5-a098-490c-9944-26c1ce521267');\n",
              "          const dataTable =\n",
              "            await google.colab.kernel.invokeFunction('convertToInteractive',\n",
              "                                                     [key], {});\n",
              "          if (!dataTable) return;\n",
              "\n",
              "          const docLinkHtml = 'Like what you see? Visit the ' +\n",
              "            '<a target=\"_blank\" href=https://colab.research.google.com/notebooks/data_table.ipynb>data table notebook</a>'\n",
              "            + ' to learn more about interactive tables.';\n",
              "          element.innerHTML = '';\n",
              "          dataTable['output_type'] = 'display_data';\n",
              "          await google.colab.output.renderOutput(dataTable, element);\n",
              "          const docLink = document.createElement('div');\n",
              "          docLink.innerHTML = docLinkHtml;\n",
              "          element.appendChild(docLink);\n",
              "        }\n",
              "      </script>\n",
              "    </div>\n",
              "  </div>\n",
              "  "
            ]
          },
          "metadata": {},
          "execution_count": 15
        }
      ]
    },
    {
      "cell_type": "code",
      "source": [
        "#label wise counting\n",
        "df['Labels'].value_counts()"
      ],
      "metadata": {
        "colab": {
          "base_uri": "https://localhost:8080/"
        },
        "id": "XvRDEGr2Rgu3",
        "outputId": "27f94a02-2d1c-443d-d190-0c2541a52380"
      },
      "execution_count": 16,
      "outputs": [
        {
          "output_type": "execute_result",
          "data": {
            "text/plain": [
              "3    31\n",
              "1    23\n",
              "0    16\n",
              "4    14\n",
              "5    10\n",
              "2     7\n",
              "Name: Labels, dtype: int64"
            ]
          },
          "metadata": {},
          "execution_count": 16
        }
      ]
    },
    {
      "cell_type": "code",
      "source": [
        "df.groupby('Labels').mean()"
      ],
      "metadata": {
        "colab": {
          "base_uri": "https://localhost:8080/",
          "height": 269
        },
        "id": "3cuKKVHfRnPA",
        "outputId": "9e2e1599-65ca-4ef7-c36a-6ead29d61b9e"
      },
      "execution_count": 17,
      "outputs": [
        {
          "output_type": "execute_result",
          "data": {
            "text/plain": [
              "              Age\n",
              "Labels           \n",
              "0       41.000000\n",
              "1       42.043478\n",
              "2       21.428571\n",
              "3        9.032258\n",
              "4       56.500000\n",
              "5       42.100000"
            ],
            "text/html": [
              "\n",
              "  <div id=\"df-0b8847b6-2b9f-4237-b201-150a8bedca99\">\n",
              "    <div class=\"colab-df-container\">\n",
              "      <div>\n",
              "<style scoped>\n",
              "    .dataframe tbody tr th:only-of-type {\n",
              "        vertical-align: middle;\n",
              "    }\n",
              "\n",
              "    .dataframe tbody tr th {\n",
              "        vertical-align: top;\n",
              "    }\n",
              "\n",
              "    .dataframe thead th {\n",
              "        text-align: right;\n",
              "    }\n",
              "</style>\n",
              "<table border=\"1\" class=\"dataframe\">\n",
              "  <thead>\n",
              "    <tr style=\"text-align: right;\">\n",
              "      <th></th>\n",
              "      <th>Age</th>\n",
              "    </tr>\n",
              "    <tr>\n",
              "      <th>Labels</th>\n",
              "      <th></th>\n",
              "    </tr>\n",
              "  </thead>\n",
              "  <tbody>\n",
              "    <tr>\n",
              "      <th>0</th>\n",
              "      <td>41.000000</td>\n",
              "    </tr>\n",
              "    <tr>\n",
              "      <th>1</th>\n",
              "      <td>42.043478</td>\n",
              "    </tr>\n",
              "    <tr>\n",
              "      <th>2</th>\n",
              "      <td>21.428571</td>\n",
              "    </tr>\n",
              "    <tr>\n",
              "      <th>3</th>\n",
              "      <td>9.032258</td>\n",
              "    </tr>\n",
              "    <tr>\n",
              "      <th>4</th>\n",
              "      <td>56.500000</td>\n",
              "    </tr>\n",
              "    <tr>\n",
              "      <th>5</th>\n",
              "      <td>42.100000</td>\n",
              "    </tr>\n",
              "  </tbody>\n",
              "</table>\n",
              "</div>\n",
              "      <button class=\"colab-df-convert\" onclick=\"convertToInteractive('df-0b8847b6-2b9f-4237-b201-150a8bedca99')\"\n",
              "              title=\"Convert this dataframe to an interactive table.\"\n",
              "              style=\"display:none;\">\n",
              "        \n",
              "  <svg xmlns=\"http://www.w3.org/2000/svg\" height=\"24px\"viewBox=\"0 0 24 24\"\n",
              "       width=\"24px\">\n",
              "    <path d=\"M0 0h24v24H0V0z\" fill=\"none\"/>\n",
              "    <path d=\"M18.56 5.44l.94 2.06.94-2.06 2.06-.94-2.06-.94-.94-2.06-.94 2.06-2.06.94zm-11 1L8.5 8.5l.94-2.06 2.06-.94-2.06-.94L8.5 2.5l-.94 2.06-2.06.94zm10 10l.94 2.06.94-2.06 2.06-.94-2.06-.94-.94-2.06-.94 2.06-2.06.94z\"/><path d=\"M17.41 7.96l-1.37-1.37c-.4-.4-.92-.59-1.43-.59-.52 0-1.04.2-1.43.59L10.3 9.45l-7.72 7.72c-.78.78-.78 2.05 0 2.83L4 21.41c.39.39.9.59 1.41.59.51 0 1.02-.2 1.41-.59l7.78-7.78 2.81-2.81c.8-.78.8-2.07 0-2.86zM5.41 20L4 18.59l7.72-7.72 1.47 1.35L5.41 20z\"/>\n",
              "  </svg>\n",
              "      </button>\n",
              "      \n",
              "  <style>\n",
              "    .colab-df-container {\n",
              "      display:flex;\n",
              "      flex-wrap:wrap;\n",
              "      gap: 12px;\n",
              "    }\n",
              "\n",
              "    .colab-df-convert {\n",
              "      background-color: #E8F0FE;\n",
              "      border: none;\n",
              "      border-radius: 50%;\n",
              "      cursor: pointer;\n",
              "      display: none;\n",
              "      fill: #1967D2;\n",
              "      height: 32px;\n",
              "      padding: 0 0 0 0;\n",
              "      width: 32px;\n",
              "    }\n",
              "\n",
              "    .colab-df-convert:hover {\n",
              "      background-color: #E2EBFA;\n",
              "      box-shadow: 0px 1px 2px rgba(60, 64, 67, 0.3), 0px 1px 3px 1px rgba(60, 64, 67, 0.15);\n",
              "      fill: #174EA6;\n",
              "    }\n",
              "\n",
              "    [theme=dark] .colab-df-convert {\n",
              "      background-color: #3B4455;\n",
              "      fill: #D2E3FC;\n",
              "    }\n",
              "\n",
              "    [theme=dark] .colab-df-convert:hover {\n",
              "      background-color: #434B5C;\n",
              "      box-shadow: 0px 1px 3px 1px rgba(0, 0, 0, 0.15);\n",
              "      filter: drop-shadow(0px 1px 2px rgba(0, 0, 0, 0.3));\n",
              "      fill: #FFFFFF;\n",
              "    }\n",
              "  </style>\n",
              "\n",
              "      <script>\n",
              "        const buttonEl =\n",
              "          document.querySelector('#df-0b8847b6-2b9f-4237-b201-150a8bedca99 button.colab-df-convert');\n",
              "        buttonEl.style.display =\n",
              "          google.colab.kernel.accessAllowed ? 'block' : 'none';\n",
              "\n",
              "        async function convertToInteractive(key) {\n",
              "          const element = document.querySelector('#df-0b8847b6-2b9f-4237-b201-150a8bedca99');\n",
              "          const dataTable =\n",
              "            await google.colab.kernel.invokeFunction('convertToInteractive',\n",
              "                                                     [key], {});\n",
              "          if (!dataTable) return;\n",
              "\n",
              "          const docLinkHtml = 'Like what you see? Visit the ' +\n",
              "            '<a target=\"_blank\" href=https://colab.research.google.com/notebooks/data_table.ipynb>data table notebook</a>'\n",
              "            + ' to learn more about interactive tables.';\n",
              "          element.innerHTML = '';\n",
              "          dataTable['output_type'] = 'display_data';\n",
              "          await google.colab.output.renderOutput(dataTable, element);\n",
              "          const docLink = document.createElement('div');\n",
              "          docLink.innerHTML = docLinkHtml;\n",
              "          element.appendChild(docLink);\n",
              "        }\n",
              "      </script>\n",
              "    </div>\n",
              "  </div>\n",
              "  "
            ]
          },
          "metadata": {},
          "execution_count": 17
        }
      ]
    },
    {
      "cell_type": "code",
      "source": [
        "#Seperating the features and target \n",
        "X = df.drop(columns= 'Labels',axis=1)\n",
        "Y = df['Labels']"
      ],
      "metadata": {
        "id": "hTJcybrnRv25"
      },
      "execution_count": 18,
      "outputs": []
    },
    {
      "cell_type": "code",
      "source": [
        "print (X)"
      ],
      "metadata": {
        "colab": {
          "base_uri": "https://localhost:8080/"
        },
        "id": "AJ7xlHfaR5Y6",
        "outputId": "601c6df6-1bc4-43f1-c1cc-8ecac719e085"
      },
      "execution_count": 19,
      "outputs": [
        {
          "output_type": "stream",
          "name": "stdout",
          "text": [
            "     Age Sex                                      Description  \\\n",
            "0     11   M                             fall injury on table   \n",
            "1     21   M                            pain left back region   \n",
            "2     26   M                                deposits on teeth   \n",
            "3     10   M  partially erupted teeth present in upper region   \n",
            "4     80   F          missing teeth in upper and lower region   \n",
            "..   ...  ..                                              ...   \n",
            "96    28   F           decayed tooth in right back regionafo    \n",
            "97    58   F                      upper and lower jaw paining   \n",
            "98     5   M     pain in lower right back region since 1 week   \n",
            "99     8   F           decayed lower left tooth since 2 years   \n",
            "100   56   M          swelling in the left upper front region   \n",
            "\n",
            "                      Dental History                    Medical History  \\\n",
            "0                               none                               none   \n",
            "1                               none                               none   \n",
            "2                               none                               none   \n",
            "3                               none                               none   \n",
            "4    complete denture since 5 months  cardiac disorder and hypertension   \n",
            "..                               ...                                ...   \n",
            "96                 removal of tooth                                none   \n",
            "97                              none                               none   \n",
            "98                              none                               none   \n",
            "99                  filling of tooth                     worm infection   \n",
            "100                             none      thyroid disorder and diabetes   \n",
            "\n",
            "                                      Past Medication      Department  \n",
            "0                                           zytee gel     Pedodontics  \n",
            "1                                                none             OMR  \n",
            "2                                                none             OMR  \n",
            "3                                                none     Pedodontics  \n",
            "4    medication for hypertension and cardiac disorder  Prosthodontics  \n",
            "..                                                ...             ...  \n",
            "96                                               none     Cons & Endo  \n",
            "97                                               none             OMR  \n",
            "98                                               none     Pedodontics  \n",
            "99                                               none     Pedodontics  \n",
            "100         diabetes and thyroid disorder medication              POI  \n",
            "\n",
            "[101 rows x 7 columns]\n"
          ]
        }
      ]
    },
    {
      "cell_type": "code",
      "source": [
        "print (Y)"
      ],
      "metadata": {
        "colab": {
          "base_uri": "https://localhost:8080/"
        },
        "id": "6018YRWLR7WQ",
        "outputId": "9c7c1398-a353-44e0-8eb5-35096621cf5b"
      },
      "execution_count": 20,
      "outputs": [
        {
          "output_type": "stream",
          "name": "stdout",
          "text": [
            "0      3\n",
            "1      1\n",
            "2      1\n",
            "3      3\n",
            "4      4\n",
            "      ..\n",
            "96     0\n",
            "97     1\n",
            "98     3\n",
            "99     3\n",
            "100    5\n",
            "Name: Labels, Length: 101, dtype: int64\n"
          ]
        }
      ]
    },
    {
      "cell_type": "code",
      "source": [
        "port_stem = PorterStemmer()"
      ],
      "metadata": {
        "id": "kJQNBU53TsC1"
      },
      "execution_count": 23,
      "outputs": []
    },
    {
      "cell_type": "code",
      "source": [
        "def stemming(Description):\n",
        "    stemmed_Description = re.sub('[^a-zA-Z]',' ',Description)\n",
        "    stemmed_Description = stemmed_Description.lower()\n",
        "    stemmed_Description = stemmed_Description.split()\n",
        "    stemmed_Description = [port_stem.stem(word) for word in stemmed_Description if not word in stopwords.words('english')]\n",
        "    stemmed_Description = ' '.join(stemmed_Description)\n",
        "    return stemmed_Description"
      ],
      "metadata": {
        "id": "YRvRgWw3SC56"
      },
      "execution_count": 25,
      "outputs": []
    },
    {
      "cell_type": "code",
      "source": [
        "df['Description'] = df['Description'].apply(stemming)"
      ],
      "metadata": {
        "id": "tANlLSC1Sybo"
      },
      "execution_count": 26,
      "outputs": []
    },
    {
      "cell_type": "code",
      "source": [
        "print (df['Description'])"
      ],
      "metadata": {
        "colab": {
          "base_uri": "https://localhost:8080/"
        },
        "id": "FQbtWgKcUTTK",
        "outputId": "84d76c99-0eee-4120-865f-2952634129d5"
      },
      "execution_count": 27,
      "outputs": [
        {
          "output_type": "stream",
          "name": "stdout",
          "text": [
            "0                              fall injuri tabl\n",
            "1                         pain left back region\n",
            "2                                 deposit teeth\n",
            "3      partial erupt teeth present upper region\n",
            "4                 miss teeth upper lower region\n",
            "                         ...                   \n",
            "96             decay tooth right back regionafo\n",
            "97                         upper lower jaw pain\n",
            "98       pain lower right back region sinc week\n",
            "99             decay lower left tooth sinc year\n",
            "100               swell left upper front region\n",
            "Name: Description, Length: 101, dtype: object\n"
          ]
        }
      ]
    },
    {
      "cell_type": "code",
      "source": [
        "#Seperating data and label\n",
        "X = df['Description'].values\n",
        "Y = df['Labels'].values"
      ],
      "metadata": {
        "id": "WwIvCYWEWLH9"
      },
      "execution_count": 28,
      "outputs": []
    },
    {
      "cell_type": "code",
      "source": [
        "print(X)"
      ],
      "metadata": {
        "colab": {
          "base_uri": "https://localhost:8080/"
        },
        "id": "zwFb9Pw1Wr1k",
        "outputId": "25ddb26d-3ace-4184-a779-bc0e893fcc71"
      },
      "execution_count": 29,
      "outputs": [
        {
          "output_type": "stream",
          "name": "stdout",
          "text": [
            "['fall injuri tabl' 'pain left back region' 'deposit teeth'\n",
            " 'partial erupt teeth present upper region'\n",
            " 'miss teeth upper lower region' 'decay teeth upper back region'\n",
            " 'pain lower right back region jaw day'\n",
            " 'multipl miss teeth upper lower region mouth'\n",
            " 'delay tooth upper front region' 'decay teeth left back region lower jaw'\n",
            " 'decay teeth' 'irregular arrang upper lower front teeth'\n",
            " 'irregular arrang upper front teeth' 'pain gum sinc year'\n",
            " 'decay tooth upper left region' 'placement artifici teeth'\n",
            " 'irregular arrang upper lower front teeth' 'artifici teeth place'\n",
            " 'decay teeth' 'wound corner right region'\n",
            " 'pain lower left region mouth month' 'fall injuri' 'deposit teeth'\n",
            " 'replac miss teeth' 'mobil tooth right front region lower jaw'\n",
            " 'swell present lower surfac tongu day'\n",
            " 'decay tooth left lower back region' 'bleed gum month'\n",
            " 'fractur fragment lower left region' 'upper complet dentur fell'\n",
            " 'teeth need scale' 'pain left back region lower jaw sinc day'\n",
            " 'sensit teeth sinc year' 'road traffic accid week back'\n",
            " 'pain left back region upper jaw' 'bleed gum'\n",
            " 'irregular arrang upper lower front teeth'\n",
            " 'multipl miss teeth upper lower region mouth' 'miss teeth mouth'\n",
            " 'irregular teeth lower back region' 'decay tooth lower back region'\n",
            " 'decay tooth lower left back region sinc month'\n",
            " 'decay tooth left back lower right region tooth region'\n",
            " 'loosen teeth right back region upper jaw'\n",
            " 'pain left lower back region jaw day' 'decay tooth upper back region'\n",
            " 'long teeth upper region' 'pain lower left region'\n",
            " 'remain fragment tooth left lower region'\n",
            " 'remain fragment tooth right lower back region'\n",
            " 'decay tooth upper front region mouth'\n",
            " 'decay tooth right back region lower jaw'\n",
            " 'pain left upper back region mouth month' 'remain tooth fragment'\n",
            " 'pain right back region' 'decay tooth upper right region'\n",
            " 'miss teeth upper lower jaw' 'pain right upper back region month'\n",
            " 'pain right back region lower jaw' 'pu drain inferior front tooth region'\n",
            " 'decay teeth lower right back region' 'pain lower region mouth'\n",
            " 'decay teeth left upper back region sinc month' 'clean teeth'\n",
            " 'pain lower right back region jaw' 'pain left lower back region jaw day'\n",
            " 'pain upper back region sinc month' 'decay tooth lower right left region'\n",
            " 'decay tooth upper front region mouth year'\n",
            " 'pain left back region upper jaw' 'irregular arrang upper front teeth'\n",
            " 'swell upper left back region sinc day' 'pain gum sinc week'\n",
            " 'upper lower jaw pain' 'decay teeth upper front region'\n",
            " 'pain left lower back region' 'miss teeth mouth'\n",
            " 'pain lower mouth sinc day' 'pain left back region'\n",
            " 'pain left upper back region day' 'pain left region upper jaw'\n",
            " 'miss teeth upper lower jaw'\n",
            " 'partial erupt teeth present upper front region jaw'\n",
            " 'pain upper left back region' 'decay teeth multipl place'\n",
            " 'pain gum left lower upper back region sinc week'\n",
            " 'decay tooth upper right region' 'swell right side tongu sinc week'\n",
            " 'decay tooth right back region upper jaw sinc year'\n",
            " 'pain upper left back tooth sinc month'\n",
            " 'irregular arrang upper lower front teeth'\n",
            " 'miss part teeth upper front region' 'pain right back region lower jaw'\n",
            " 'decay tooth right upper back tooth region' 'pain lower mouth day'\n",
            " 'pain upper left back region' 'decay tooth right back regionafo'\n",
            " 'upper lower jaw pain' 'pain lower right back region sinc week'\n",
            " 'decay lower left tooth sinc year' 'swell left upper front region']\n"
          ]
        }
      ]
    },
    {
      "cell_type": "code",
      "source": [
        "print(Y)"
      ],
      "metadata": {
        "colab": {
          "base_uri": "https://localhost:8080/"
        },
        "id": "rLOmJ2gGWxHp",
        "outputId": "48ef0e1a-4887-4f3e-b46e-34e970e67419"
      },
      "execution_count": 30,
      "outputs": [
        {
          "output_type": "stream",
          "name": "stdout",
          "text": [
            "[3 1 1 3 4 1 3 4 3 0 0 2 2 5 3 4 2 4 0 1 1 3 1 4 3 3 3 5 3 4 5 1 5 3 1 5 2\n",
            " 4 4 2 0 0 3 5 1 0 4 3 3 3 0 0 1 3 1 3 4 1 1 0 0 3 0 5 3 3 1 3 0 1 2 3 5 4\n",
            " 0 3 4 3 1 1 1 4 3 1 0 5 3 3 0 1 2 4 1 3 3 1 0 1 3 3 5]\n"
          ]
        }
      ]
    },
    {
      "cell_type": "code",
      "source": [
        "# converting the textual data to numerical data\n",
        "vectorizer = TfidfVectorizer()\n",
        "vectorizer.fit(X)\n",
        "\n",
        "X = vectorizer.transform(X)"
      ],
      "metadata": {
        "id": "M-C9RnQgXBLC"
      },
      "execution_count": 32,
      "outputs": []
    },
    {
      "cell_type": "code",
      "source": [
        "print(X)"
      ],
      "metadata": {
        "colab": {
          "base_uri": "https://localhost:8080/"
        },
        "id": "n88eJsobYAO3",
        "outputId": "7cfa5ccc-16eb-4756-ddf7-46928a37de43"
      },
      "execution_count": 33,
      "outputs": [
        {
          "output_type": "stream",
          "name": "stdout",
          "text": [
            "  (0, 54)\t0.6103165810080543\n",
            "  (0, 22)\t0.5601400141690643\n",
            "  (0, 15)\t0.5601400141690643\n",
            "  (1, 42)\t0.37853217558060337\n",
            "  (1, 35)\t0.5437116170416159\n",
            "  (1, 25)\t0.5680583861221443\n",
            "  (1, 3)\t0.48826298190679107\n",
            "  (2, 55)\t0.4111335307374386\n",
            "  (2, 12)\t0.9115751312444672\n",
            "  (3, 59)\t0.21951705448302253\n",
            "  (3, 55)\t0.2464562487877183\n",
            "  (3, 42)\t0.17889615861984368\n",
            "  (3, 40)\t0.5117180476221626\n",
            "  (3, 37)\t0.5464487095754779\n",
            "  (3, 14)\t0.5464487095754779\n",
            "  (4, 59)\t0.3690922022895724\n",
            "  (4, 55)\t0.41438730055536965\n",
            "  (4, 42)\t0.3007929261881085\n",
            "  (4, 29)\t0.6743994051422116\n",
            "  (4, 28)\t0.3830968144562068\n",
            "  (5, 59)\t0.4159207144425609\n",
            "  (5, 55)\t0.46696262081335993\n",
            "  (5, 42)\t0.3389559789758827\n",
            "  (5, 9)\t0.5503711690456273\n",
            "  (5, 3)\t0.4372142388584326\n",
            "  :\t:\n",
            "  (96, 43)\t0.7257876119090598\n",
            "  (96, 9)\t0.3540910643021702\n",
            "  (96, 3)\t0.28128954398883343\n",
            "  (97, 59)\t0.4278998634735608\n",
            "  (97, 35)\t0.500888093128655\n",
            "  (97, 28)\t0.4441358381078922\n",
            "  (97, 24)\t0.6072529804862616\n",
            "  (98, 60)\t0.5832588645674408\n",
            "  (98, 51)\t0.4340166218070126\n",
            "  (98, 46)\t0.3855609411657377\n",
            "  (98, 42)\t0.22547537078102475\n",
            "  (98, 35)\t0.3238656747273105\n",
            "  (98, 28)\t0.2871706372194519\n",
            "  (98, 3)\t0.2908373025759868\n",
            "  (99, 62)\t0.5837901018057926\n",
            "  (99, 57)\t0.3726604688919643\n",
            "  (99, 51)\t0.4344119279147707\n",
            "  (99, 28)\t0.2874321947293671\n",
            "  (99, 25)\t0.3386761886428558\n",
            "  (99, 9)\t0.3664433674165538\n",
            "  (100, 59)\t0.30864120287769403\n",
            "  (100, 53)\t0.6815995630496398\n",
            "  (100, 42)\t0.25152818179280745\n",
            "  (100, 25)\t0.37746511982581665\n",
            "  (100, 19)\t0.4841655714893787\n"
          ]
        }
      ]
    },
    {
      "cell_type": "code",
      "source": [
        "#Splitting data into training data and testing data\n",
        "X_train, X_test, Y_train, Y_test = train_test_split(X, Y, test_size = 0.2, random_state = 2)\n",
        "print(X.shape, X_train.shape, X_test.shape)"
      ],
      "metadata": {
        "colab": {
          "base_uri": "https://localhost:8080/"
        },
        "id": "WGj--yASYCn_",
        "outputId": "6d8a5a98-2182-4648-d41f-1c03310e0e62"
      },
      "execution_count": 34,
      "outputs": [
        {
          "output_type": "stream",
          "name": "stdout",
          "text": [
            "(101, 63) (80, 63) (21, 63)\n"
          ]
        }
      ]
    },
    {
      "cell_type": "code",
      "source": [],
      "metadata": {
        "id": "ZikA5b7IYJoV"
      },
      "execution_count": null,
      "outputs": []
    }
  ]
}